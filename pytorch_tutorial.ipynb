{
  "nbformat": 4,
  "nbformat_minor": 0,
  "metadata": {
    "colab": {
      "provenance": [],
      "toc_visible": true,
      "authorship_tag": "ABX9TyOyY9MBZZjTuvoYlVQy68ze",
      "include_colab_link": true
    },
    "kernelspec": {
      "name": "python3",
      "display_name": "Python 3"
    },
    "language_info": {
      "name": "python"
    }
  },
  "cells": [
    {
      "cell_type": "markdown",
      "metadata": {
        "id": "view-in-github",
        "colab_type": "text"
      },
      "source": [
        "<a href=\"https://colab.research.google.com/github/houman-nr/vigilant-umbrella/blob/main/pytorch_tutorial.ipynb\" target=\"_parent\"><img src=\"https://colab.research.google.com/assets/colab-badge.svg\" alt=\"Open In Colab\"/></a>"
      ]
    },
    {
      "cell_type": "code",
      "execution_count": 5,
      "metadata": {
        "id": "dokn8yNh97Fw",
        "colab": {
          "base_uri": "https://localhost:8080/"
        },
        "outputId": "bc7206fb-f63e-487c-e34d-5a6248d994f1"
      },
      "outputs": [
        {
          "output_type": "stream",
          "name": "stdout",
          "text": [
            "tensor([[0.0013, 0.4168],\n",
            "        [0.7915, 0.6188]])\n"
          ]
        }
      ],
      "source": [
        "import torch\n",
        "\n",
        "x = torch.rand(2,2)\n",
        "y = torch.rand(2,2)\n",
        "print(x)"
      ]
    },
    {
      "cell_type": "code",
      "source": [
        "print(y)"
      ],
      "metadata": {
        "colab": {
          "base_uri": "https://localhost:8080/"
        },
        "id": "Se3wYRgGsNKe",
        "outputId": "e3ca7966-515c-4633-e81e-aaf0da2256eb"
      },
      "execution_count": 6,
      "outputs": [
        {
          "output_type": "stream",
          "name": "stdout",
          "text": [
            "tensor([[0.7843, 0.7828],\n",
            "        [0.1352, 0.2416]])\n"
          ]
        }
      ]
    },
    {
      "cell_type": "code",
      "source": [
        "z = torch.rand(2,2)\n",
        "print(f'muliply two tensors would be like:\\nz=torch.mul(x,y):\\n{torch.mul(x,y)}')"
      ],
      "metadata": {
        "colab": {
          "base_uri": "https://localhost:8080/"
        },
        "id": "R4toPpV7sRP-",
        "outputId": "357bbd7a-a1fd-45ad-b7bf-272e9884c0cd"
      },
      "execution_count": 11,
      "outputs": [
        {
          "output_type": "stream",
          "name": "stdout",
          "text": [
            "muliply two tensors would be like:\n",
            "z=torch.mul(x,y):\n",
            "tensor([[0.0011, 0.3263],\n",
            "        [0.1070, 0.1495]])\n"
          ]
        }
      ]
    },
    {
      "cell_type": "code",
      "source": [
        "print(z[1,1].item())"
      ],
      "metadata": {
        "colab": {
          "base_uri": "https://localhost:8080/"
        },
        "id": "gLxUMVKjuCrt",
        "outputId": "af7f14ba-362f-4b72-d306-8c61d1e5d5d5"
      },
      "execution_count": 18,
      "outputs": [
        {
          "output_type": "stream",
          "name": "stdout",
          "text": [
            "0.9037267565727234\n"
          ]
        }
      ]
    }
  ]
}