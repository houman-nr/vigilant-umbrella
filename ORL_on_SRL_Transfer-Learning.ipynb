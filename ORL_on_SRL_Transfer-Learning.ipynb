{
  "metadata": {
    "kernelspec": {
      "display_name": "Python 3",
      "language": "python",
      "name": "python3"
    },
    "language_info": {
      "name": "python",
      "version": "3.10.12",
      "mimetype": "text/x-python",
      "codemirror_mode": {
        "name": "ipython",
        "version": 3
      },
      "pygments_lexer": "ipython3",
      "nbconvert_exporter": "python",
      "file_extension": ".py"
    },
    "kaggle": {
      "accelerator": "gpu",
      "dataSources": [
        {
          "sourceId": 6950004,
          "sourceType": "datasetVersion",
          "datasetId": 3991553
        },
        {
          "sourceId": 10302108,
          "sourceType": "datasetVersion",
          "datasetId": 5836801
        }
      ],
      "dockerImageVersionId": 30823,
      "isInternetEnabled": true,
      "language": "python",
      "sourceType": "notebook",
      "isGpuEnabled": true
    },
    "papermill": {
      "default_parameters": {},
      "duration": 2078.052058,
      "end_time": "2024-09-26T12:00:40.153852",
      "environment_variables": {},
      "exception": null,
      "input_path": "__notebook__.ipynb",
      "output_path": "__notebook__.ipynb",
      "parameters": {},
      "start_time": "2024-09-26T11:26:02.101794",
      "version": "2.6.0"
    },
    "widgets": {
      "application/vnd.jupyter.widget-state+json": {}
    },
    "colab": {
      "provenance": [],
      "include_colab_link": true
    }
  },
  "nbformat_minor": 0,
  "nbformat": 4,
  "cells": [
    {
      "cell_type": "markdown",
      "metadata": {
        "id": "view-in-github",
        "colab_type": "text"
      },
      "source": [
        "<a href=\"https://colab.research.google.com/github/houman-nr/vigilant-umbrella/blob/main/ORL_on_SRL_Transfer-Learning.ipynb\" target=\"_parent\"><img src=\"https://colab.research.google.com/assets/colab-badge.svg\" alt=\"Open In Colab\"/></a>"
      ]
    },
    {
      "cell_type": "code",
      "source": [
        "! pip install transformers\n",
        "! pip install torch"
      ],
      "metadata": {
        "papermill": {
          "duration": 29.189487,
          "end_time": "2024-09-26T11:26:35.267247",
          "exception": false,
          "start_time": "2024-09-26T11:26:06.077760",
          "status": "completed"
        },
        "tags": [],
        "trusted": true,
        "execution": {
          "iopub.status.busy": "2025-01-08T15:01:03.947911Z",
          "iopub.execute_input": "2025-01-08T15:01:03.948235Z",
          "iopub.status.idle": "2025-01-08T15:01:12.411084Z",
          "shell.execute_reply.started": "2025-01-08T15:01:03.948206Z",
          "shell.execute_reply": "2025-01-08T15:01:12.409985Z"
        },
        "id": "T6ubBx04v7yz",
        "outputId": "78d9fb80-3e5e-4898-da28-38974f746ac6"
      },
      "outputs": [
        {
          "name": "stdout",
          "text": "Requirement already satisfied: transformers in /usr/local/lib/python3.10/dist-packages (4.44.2)\nRequirement already satisfied: filelock in /usr/local/lib/python3.10/dist-packages (from transformers) (3.16.1)\nRequirement already satisfied: huggingface-hub<1.0,>=0.23.2 in /usr/local/lib/python3.10/dist-packages (from transformers) (0.24.7)\nRequirement already satisfied: numpy>=1.17 in /usr/local/lib/python3.10/dist-packages (from transformers) (1.26.4)\nRequirement already satisfied: packaging>=20.0 in /usr/local/lib/python3.10/dist-packages (from transformers) (24.1)\nRequirement already satisfied: pyyaml>=5.1 in /usr/local/lib/python3.10/dist-packages (from transformers) (6.0.2)\nRequirement already satisfied: regex!=2019.12.17 in /usr/local/lib/python3.10/dist-packages (from transformers) (2024.9.11)\nRequirement already satisfied: requests in /usr/local/lib/python3.10/dist-packages (from transformers) (2.32.3)\nRequirement already satisfied: safetensors>=0.4.1 in /usr/local/lib/python3.10/dist-packages (from transformers) (0.4.5)\nRequirement already satisfied: tokenizers<0.20,>=0.19 in /usr/local/lib/python3.10/dist-packages (from transformers) (0.19.1)\nRequirement already satisfied: tqdm>=4.27 in /usr/local/lib/python3.10/dist-packages (from transformers) (4.66.5)\nRequirement already satisfied: fsspec>=2023.5.0 in /usr/local/lib/python3.10/dist-packages (from huggingface-hub<1.0,>=0.23.2->transformers) (2024.6.1)\nRequirement already satisfied: typing-extensions>=3.7.4.3 in /usr/local/lib/python3.10/dist-packages (from huggingface-hub<1.0,>=0.23.2->transformers) (4.12.2)\nRequirement already satisfied: charset-normalizer<4,>=2 in /usr/local/lib/python3.10/dist-packages (from requests->transformers) (3.3.2)\nRequirement already satisfied: idna<4,>=2.5 in /usr/local/lib/python3.10/dist-packages (from requests->transformers) (3.10)\nRequirement already satisfied: urllib3<3,>=1.21.1 in /usr/local/lib/python3.10/dist-packages (from requests->transformers) (2.2.3)\nRequirement already satisfied: certifi>=2017.4.17 in /usr/local/lib/python3.10/dist-packages (from requests->transformers) (2024.8.30)\nRequirement already satisfied: torch in /usr/local/lib/python3.10/dist-packages (2.4.1+cu121)\nRequirement already satisfied: filelock in /usr/local/lib/python3.10/dist-packages (from torch) (3.16.1)\nRequirement already satisfied: typing-extensions>=4.8.0 in /usr/local/lib/python3.10/dist-packages (from torch) (4.12.2)\nRequirement already satisfied: sympy in /usr/local/lib/python3.10/dist-packages (from torch) (1.13.3)\nRequirement already satisfied: networkx in /usr/local/lib/python3.10/dist-packages (from torch) (3.3)\nRequirement already satisfied: jinja2 in /usr/local/lib/python3.10/dist-packages (from torch) (3.1.4)\nRequirement already satisfied: fsspec in /usr/local/lib/python3.10/dist-packages (from torch) (2024.6.1)\nRequirement already satisfied: MarkupSafe>=2.0 in /usr/local/lib/python3.10/dist-packages (from jinja2->torch) (2.1.5)\nRequirement already satisfied: mpmath<1.4,>=1.1.0 in /usr/local/lib/python3.10/dist-packages (from sympy->torch) (1.3.0)\n",
          "output_type": "stream"
        }
      ],
      "execution_count": null
    },
    {
      "cell_type": "markdown",
      "source": [
        "### importing libraries"
      ],
      "metadata": {
        "papermill": {
          "duration": 0.014528,
          "end_time": "2024-09-26T11:26:35.296420",
          "exception": false,
          "start_time": "2024-09-26T11:26:35.281892",
          "status": "completed"
        },
        "tags": [],
        "id": "IO6o5JO_v7y5"
      }
    },
    {
      "cell_type": "code",
      "source": [
        "import torch\n",
        "import numpy as np\n",
        "import pandas as pd\n",
        "from transformers import T5Tokenizer, T5ForConditionalGeneration\n",
        "import json\n",
        "import random\n",
        "from sklearn.model_selection import train_test_split\n",
        "from itertools import zip_longest"
      ],
      "metadata": {
        "papermill": {
          "duration": 12.728315,
          "end_time": "2024-09-26T11:26:48.042165",
          "exception": false,
          "start_time": "2024-09-26T11:26:35.313850",
          "status": "completed"
        },
        "tags": [],
        "trusted": true,
        "execution": {
          "iopub.status.busy": "2025-01-08T15:01:12.412334Z",
          "iopub.execute_input": "2025-01-08T15:01:12.412685Z",
          "iopub.status.idle": "2025-01-08T15:01:16.912207Z",
          "shell.execute_reply.started": "2025-01-08T15:01:12.412661Z",
          "shell.execute_reply": "2025-01-08T15:01:16.911275Z"
        },
        "id": "y9Do2PfVv7y8"
      },
      "outputs": [],
      "execution_count": null
    },
    {
      "cell_type": "markdown",
      "source": [
        "### defining general variables"
      ],
      "metadata": {
        "papermill": {
          "duration": 0.011678,
          "end_time": "2024-09-26T11:26:48.066273",
          "exception": false,
          "start_time": "2024-09-26T11:26:48.054595",
          "status": "completed"
        },
        "tags": [],
        "id": "W9oVXuPrv7y_"
      }
    },
    {
      "cell_type": "code",
      "source": [
        "#defining global valriables throughout the whole notebook\n",
        "EPOCH = 32\n",
        "BATCH_SIZE = 64\n",
        "MAX_INPUT_LENGTH = 65\n",
        "MAX_LABEL_LENGTH = 8\n",
        "MODEL_LINK = \"google/flan-t5-small\"\n",
        "FOLD_NUMBER = 0\n",
        "SEED = 0\n",
        "srl_data_link = '/kaggle/input/srl-w-cluster-number103k/SRL_Dataset_With_60_Clusters-Similarity.csv'"
      ],
      "metadata": {
        "papermill": {
          "duration": 0.019504,
          "end_time": "2024-09-26T11:26:48.097053",
          "exception": false,
          "start_time": "2024-09-26T11:26:48.077549",
          "status": "completed"
        },
        "tags": [],
        "trusted": true,
        "execution": {
          "iopub.status.busy": "2025-01-08T15:01:16.913527Z",
          "iopub.execute_input": "2025-01-08T15:01:16.913955Z",
          "iopub.status.idle": "2025-01-08T15:01:16.917736Z",
          "shell.execute_reply.started": "2025-01-08T15:01:16.913932Z",
          "shell.execute_reply": "2025-01-08T15:01:16.916866Z"
        },
        "id": "-ZUy1eJ8v7zB"
      },
      "outputs": [],
      "execution_count": null
    },
    {
      "cell_type": "code",
      "source": [
        "def set_seed():\n",
        "    random.seed(SEED)\n",
        "    np.random.seed(SEED)\n",
        "    torch.manual_seed(SEED)\n",
        "    torch.cuda.manual_seed(SEED)\n",
        "    torch.backends.cudnn.benchmark = False\n",
        "    torch.backends.cudnn.deterministic = True"
      ],
      "metadata": {
        "trusted": true,
        "execution": {
          "iopub.status.busy": "2025-01-08T15:01:16.919034Z",
          "iopub.execute_input": "2025-01-08T15:01:16.919311Z",
          "iopub.status.idle": "2025-01-08T15:01:16.936236Z",
          "shell.execute_reply.started": "2025-01-08T15:01:16.919280Z",
          "shell.execute_reply": "2025-01-08T15:01:16.935496Z"
        },
        "id": "TuFvwLngv7zD"
      },
      "outputs": [],
      "execution_count": null
    },
    {
      "cell_type": "code",
      "source": [
        "set_seed()\n",
        "tokenizer = T5Tokenizer.from_pretrained(MODEL_LINK, legacy=False)\n",
        "model = T5ForConditionalGeneration.from_pretrained(MODEL_LINK).to('cuda')"
      ],
      "metadata": {
        "papermill": {
          "duration": 8.674111,
          "end_time": "2024-09-26T11:26:56.782868",
          "exception": false,
          "start_time": "2024-09-26T11:26:48.108757",
          "status": "completed"
        },
        "tags": [],
        "trusted": true,
        "execution": {
          "iopub.status.busy": "2025-01-08T15:01:16.937016Z",
          "iopub.execute_input": "2025-01-08T15:01:16.937294Z",
          "iopub.status.idle": "2025-01-08T15:01:20.734691Z",
          "shell.execute_reply.started": "2025-01-08T15:01:16.937266Z",
          "shell.execute_reply": "2025-01-08T15:01:20.734007Z"
        },
        "colab": {
          "referenced_widgets": [
            "27ad88532fad48788599c2943641dc6a",
            "f434c255d1c1409699f7d052e3d70818",
            "c2fa863633e84284b04a20a610b793ed",
            "a1b4566bfd9d4b0c90dd109234ed0778",
            "e1b77ed223664955a02ca52fa7e8d4c2",
            "627ba5b7aae5412ea5ae47b337b3d07d",
            "9089db1a9f0141be910cf4498dce52b5"
          ]
        },
        "id": "gkASgD5hv7zF",
        "outputId": "cbad011e-a725-44e5-855e-2e02cc2d640d"
      },
      "outputs": [
        {
          "output_type": "display_data",
          "data": {
            "text/plain": "tokenizer_config.json:   0%|          | 0.00/2.54k [00:00<?, ?B/s]",
            "application/vnd.jupyter.widget-view+json": {
              "version_major": 2,
              "version_minor": 0,
              "model_id": "27ad88532fad48788599c2943641dc6a"
            }
          },
          "metadata": {}
        },
        {
          "output_type": "display_data",
          "data": {
            "text/plain": "spiece.model:   0%|          | 0.00/792k [00:00<?, ?B/s]",
            "application/vnd.jupyter.widget-view+json": {
              "version_major": 2,
              "version_minor": 0,
              "model_id": "f434c255d1c1409699f7d052e3d70818"
            }
          },
          "metadata": {}
        },
        {
          "output_type": "display_data",
          "data": {
            "text/plain": "special_tokens_map.json:   0%|          | 0.00/2.20k [00:00<?, ?B/s]",
            "application/vnd.jupyter.widget-view+json": {
              "version_major": 2,
              "version_minor": 0,
              "model_id": "c2fa863633e84284b04a20a610b793ed"
            }
          },
          "metadata": {}
        },
        {
          "output_type": "display_data",
          "data": {
            "text/plain": "tokenizer.json:   0%|          | 0.00/2.42M [00:00<?, ?B/s]",
            "application/vnd.jupyter.widget-view+json": {
              "version_major": 2,
              "version_minor": 0,
              "model_id": "a1b4566bfd9d4b0c90dd109234ed0778"
            }
          },
          "metadata": {}
        },
        {
          "name": "stderr",
          "text": "/usr/local/lib/python3.10/dist-packages/transformers/tokenization_utils_base.py:1601: FutureWarning: `clean_up_tokenization_spaces` was not set. It will be set to `True` by default. This behavior will be depracted in transformers v4.45, and will be then set to `False` by default. For more details check this issue: https://github.com/huggingface/transformers/issues/31884\n  warnings.warn(\n",
          "output_type": "stream"
        },
        {
          "output_type": "display_data",
          "data": {
            "text/plain": "config.json:   0%|          | 0.00/1.40k [00:00<?, ?B/s]",
            "application/vnd.jupyter.widget-view+json": {
              "version_major": 2,
              "version_minor": 0,
              "model_id": "e1b77ed223664955a02ca52fa7e8d4c2"
            }
          },
          "metadata": {}
        },
        {
          "output_type": "display_data",
          "data": {
            "text/plain": "model.safetensors:   0%|          | 0.00/308M [00:00<?, ?B/s]",
            "application/vnd.jupyter.widget-view+json": {
              "version_major": 2,
              "version_minor": 0,
              "model_id": "627ba5b7aae5412ea5ae47b337b3d07d"
            }
          },
          "metadata": {}
        },
        {
          "output_type": "display_data",
          "data": {
            "text/plain": "generation_config.json:   0%|          | 0.00/147 [00:00<?, ?B/s]",
            "application/vnd.jupyter.widget-view+json": {
              "version_major": 2,
              "version_minor": 0,
              "model_id": "9089db1a9f0141be910cf4498dce52b5"
            }
          },
          "metadata": {}
        }
      ],
      "execution_count": null
    },
    {
      "cell_type": "markdown",
      "source": [
        "### functions created for reading(get_data) and organize the files (organize_data)"
      ],
      "metadata": {
        "papermill": {
          "duration": 0.012779,
          "end_time": "2024-09-26T11:26:56.808902",
          "exception": false,
          "start_time": "2024-09-26T11:26:56.796123",
          "status": "completed"
        },
        "tags": [],
        "id": "UW4vbMnEv7zG"
      }
    },
    {
      "cell_type": "code",
      "source": [
        "# a funciton to read data off of a database link is here to help getting and organizing data into dataframes\n",
        "def get_data(address):\n",
        "    lines = []\n",
        "    with open(address) as file:\n",
        "        for line in file:\n",
        "            x = json.loads(line)\n",
        "            lines.append(x)\n",
        "    sentences, orl, sep_sentences = [], [], []\n",
        "    for i in range(len(lines)):\n",
        "        sep_sentences.append(lines[i]['sentences'])\n",
        "        sentences.append(' '.join(lines[i]['sentences']))\n",
        "        orl.append(lines[i]['orl'])\n",
        "    dataframe = pd.DataFrame({'sentence': sentences, 'orl': orl, 'sep_sent': sep_sentences})\n",
        "    return dataframe\n",
        "\n",
        "# this function is to make a list of the said attribute for later iterations\n",
        "def list_of(attributes, requested_atr):\n",
        "    requested_list = []\n",
        "    for sublist in attributes:\n",
        "        if sublist[-1] == requested_atr:\n",
        "            requested_list.append(sublist)\n",
        "    return requested_list\n",
        "\n",
        "# this function was made to find target(s)/agent(s) of a dse according to list of attributes\n",
        "def organize_data(dataframe):\n",
        "\n",
        "    target_column, agent_column, sentence_column, dse_column = [], [], [], []\n",
        "\n",
        "    for i in range(len(dataframe)):\n",
        "\n",
        "        attributes = dataframe['orl'][i]\n",
        "        sentence   = dataframe['sep_sent'][i]\n",
        "        target_list= list_of(attributes, 'TARGET')\n",
        "        agent_list = list_of(attributes, 'AGENT')\n",
        "        AGENT, DSE, TARGET = '', '', ''\n",
        "\n",
        "\n",
        "        for sublist in attributes:\n",
        "            if sublist[-1] == 'DSE':\n",
        "                dse_start = int(sublist[0])\n",
        "                dse_end = int(sublist[1] + 1)\n",
        "                DSE += ' '.join(sentence[dse_start:dse_end]) + '|'\n",
        "\n",
        "\n",
        "                # looking for the targets and agents of this dse that we have found\n",
        "                for sub_sublist in target_list:\n",
        "                    if sub_sublist[0] == dse_start and int(sub_sublist[1] + 1) == dse_end:\n",
        "                        target_start = int(sub_sublist[2])\n",
        "                        target_end = int(sub_sublist[3] + 1)\n",
        "                        TARGET += ' '.join(sentence[target_start:target_end]) + ' |'\n",
        "                if not TARGET:\n",
        "                    TARGET += ' |'\n",
        "\n",
        "                for sub_sublist in agent_list:\n",
        "                    if sub_sublist[0] == dse_start and int(sub_sublist[1] + 1) == dse_end:\n",
        "                        agent_start = int(sub_sublist[2])\n",
        "                        agent_end = int(sub_sublist[3] + 1)\n",
        "                        AGENT += ' '.join(sentence[agent_start:agent_end]) + '|'\n",
        "                if not AGENT:\n",
        "                    AGENT += ' |'\n",
        "                # for every iteration of loop over attributes, if a dse is found, then we need to transfer it to new line of a dataframe\n",
        "                # for each one of the dse(s) i have to add them into a new array so then they can create the correct dataframe\n",
        "                target_column.append(TARGET)\n",
        "                agent_column.append(AGENT)\n",
        "                dse_column.append(DSE)\n",
        "                sentence_column.append(dataframe['sentence'][i])\n",
        "\n",
        "    # end of iteration on all sentences\n",
        "    output_df = pd.DataFrame({'sentence':sentence_column, 'dse':dse_column, 'target':target_column, 'agent':agent_column})\n",
        "    return output_df"
      ],
      "metadata": {
        "papermill": {
          "duration": 0.03125,
          "end_time": "2024-09-26T11:26:56.853271",
          "exception": false,
          "start_time": "2024-09-26T11:26:56.822021",
          "status": "completed"
        },
        "tags": [],
        "trusted": true,
        "execution": {
          "iopub.status.busy": "2025-01-08T15:01:20.735540Z",
          "iopub.execute_input": "2025-01-08T15:01:20.735930Z",
          "iopub.status.idle": "2025-01-08T15:01:20.745976Z",
          "shell.execute_reply.started": "2025-01-08T15:01:20.735906Z",
          "shell.execute_reply": "2025-01-08T15:01:20.745190Z"
        },
        "id": "PxTC1pLZv7zI"
      },
      "outputs": [],
      "execution_count": null
    },
    {
      "cell_type": "markdown",
      "source": [
        "### a function to call for different links of folders with exact process to extract and organize data"
      ],
      "metadata": {
        "papermill": {
          "duration": 0.012314,
          "end_time": "2024-09-26T11:26:56.878259",
          "exception": false,
          "start_time": "2024-09-26T11:26:56.865945",
          "status": "completed"
        },
        "tags": [],
        "id": "hJG-P9Cav7zL"
      }
    },
    {
      "cell_type": "code",
      "source": [
        "def get_files_of_folder(folder_number):\n",
        "    folder_number = int()\n",
        "    folder = f\"/kaggle/input/ds-json-format/json_format_dataset/{folder_number}\"\n",
        "    dev_df = get_data(f\"{folder}/aaai19srl.dev{folder_number}.conll.json\")\n",
        "    df = get_data(f\"{folder}/aaai19srl.train{folder_number}.conll.json\")\n",
        "    test_df = get_data(f\"{folder}/aaai19srl.test{folder_number}.conll.json\")\n",
        "    return df, dev_df, test_df\n",
        "df = get_files_of_folder(FOLD_NUMBER)[0]\n",
        "dev_df = get_files_of_folder(FOLD_NUMBER)[1]\n",
        "test_df = get_files_of_folder(FOLD_NUMBER)[2]"
      ],
      "metadata": {
        "papermill": {
          "duration": 0.297844,
          "end_time": "2024-09-26T11:26:57.189268",
          "exception": false,
          "start_time": "2024-09-26T11:26:56.891424",
          "status": "completed"
        },
        "tags": [],
        "trusted": true,
        "execution": {
          "iopub.status.busy": "2025-01-08T15:01:20.746687Z",
          "iopub.execute_input": "2025-01-08T15:01:20.746876Z",
          "iopub.status.idle": "2025-01-08T15:01:20.935613Z",
          "shell.execute_reply.started": "2025-01-08T15:01:20.746860Z",
          "shell.execute_reply": "2025-01-08T15:01:20.934962Z"
        },
        "id": "pKaDma5pv7zM"
      },
      "outputs": [],
      "execution_count": null
    },
    {
      "cell_type": "markdown",
      "source": [
        "### getting training/validation/test data into data frames and dividing each of {agent, target, dse} elements"
      ],
      "metadata": {
        "papermill": {
          "duration": 0.012592,
          "end_time": "2024-09-26T11:26:57.214978",
          "exception": false,
          "start_time": "2024-09-26T11:26:57.202386",
          "status": "completed"
        },
        "tags": [],
        "id": "Epn-B26jv7zO"
      }
    },
    {
      "cell_type": "code",
      "source": [
        "# df = get_data(\"/kaggle/input/ds-json-format/json_format_dataset/0/aaai19srl.train0.conll.json\")\n",
        "\n",
        "df = organize_data(df)\n",
        "df"
      ],
      "metadata": {
        "papermill": {
          "duration": 1.586562,
          "end_time": "2024-09-26T11:26:58.814086",
          "exception": false,
          "start_time": "2024-09-26T11:26:57.227524",
          "status": "completed"
        },
        "tags": [],
        "trusted": true,
        "execution": {
          "iopub.status.busy": "2025-01-08T15:01:20.937573Z",
          "iopub.execute_input": "2025-01-08T15:01:20.937790Z",
          "iopub.status.idle": "2025-01-08T15:01:21.012761Z",
          "shell.execute_reply.started": "2025-01-08T15:01:20.937771Z",
          "shell.execute_reply": "2025-01-08T15:01:21.011985Z"
        },
        "id": "1TL_sEf9v7zP",
        "outputId": "c2276e6a-b8d0-4fc2-c31f-36c398814ec0"
      },
      "outputs": [
        {
          "execution_count": 8,
          "output_type": "execute_result",
          "data": {
            "text/plain": "                                               sentence                   dse  \\\n0     The Kimberley Provincial Hospital said it woul...  would probably know|   \n1     Saeed said indications were that those tests w...                 said|   \n2     He said it was his opinion that the patient --...          his opinion|   \n3     The woman was admitted to the hospital on Satu...          complaining|   \n4     `` Since our technical equipment is far from p...                 said|   \n...                                                 ...                   ...   \n3530  Benjamin Franklin Federal Savings & Loan Assoc...                plans|   \n3531  thrift said the restructuring should help it m...                 said|   \n3532  Details of the restructuring wo n't be made fi...              approve|   \n3533  Jay Stevens , an analyst with Dean Witter Reyn...             expected|   \n3534  company to earn 35 cents a share for the quart...                 said|   \n\n                                             target  \\\n0     whether one of its patients had Congo Fever |   \n1                                     those tests |   \n2                          the patient -- a woman |   \n3                              severe joint pains |   \n4                     our technical equipment |we |   \n...                                             ...   \n3530                                              |   \n3531                            the restructuring |   \n3532                                              |   \n3533                                              |   \n3534                    the firm 's weaker profit |   \n\n                                   agent  \n0     The Kimberley Provincial Hospital|  \n1                                 Saeed|  \n2                                    He|  \n3                             The woman|  \n4                               Nazarov|  \n...                                  ...  \n3530                                 it|  \n3531                                   |  \n3532                         regulators|  \n3533                                 he|  \n3534                                   |  \n\n[3535 rows x 4 columns]",
            "text/html": "<div>\n<style scoped>\n    .dataframe tbody tr th:only-of-type {\n        vertical-align: middle;\n    }\n\n    .dataframe tbody tr th {\n        vertical-align: top;\n    }\n\n    .dataframe thead th {\n        text-align: right;\n    }\n</style>\n<table border=\"1\" class=\"dataframe\">\n  <thead>\n    <tr style=\"text-align: right;\">\n      <th></th>\n      <th>sentence</th>\n      <th>dse</th>\n      <th>target</th>\n      <th>agent</th>\n    </tr>\n  </thead>\n  <tbody>\n    <tr>\n      <th>0</th>\n      <td>The Kimberley Provincial Hospital said it woul...</td>\n      <td>would probably know|</td>\n      <td>whether one of its patients had Congo Fever |</td>\n      <td>The Kimberley Provincial Hospital|</td>\n    </tr>\n    <tr>\n      <th>1</th>\n      <td>Saeed said indications were that those tests w...</td>\n      <td>said|</td>\n      <td>those tests |</td>\n      <td>Saeed|</td>\n    </tr>\n    <tr>\n      <th>2</th>\n      <td>He said it was his opinion that the patient --...</td>\n      <td>his opinion|</td>\n      <td>the patient -- a woman |</td>\n      <td>He|</td>\n    </tr>\n    <tr>\n      <th>3</th>\n      <td>The woman was admitted to the hospital on Satu...</td>\n      <td>complaining|</td>\n      <td>severe joint pains |</td>\n      <td>The woman|</td>\n    </tr>\n    <tr>\n      <th>4</th>\n      <td>`` Since our technical equipment is far from p...</td>\n      <td>said|</td>\n      <td>our technical equipment |we |</td>\n      <td>Nazarov|</td>\n    </tr>\n    <tr>\n      <th>...</th>\n      <td>...</td>\n      <td>...</td>\n      <td>...</td>\n      <td>...</td>\n    </tr>\n    <tr>\n      <th>3530</th>\n      <td>Benjamin Franklin Federal Savings &amp; Loan Assoc...</td>\n      <td>plans|</td>\n      <td>|</td>\n      <td>it|</td>\n    </tr>\n    <tr>\n      <th>3531</th>\n      <td>thrift said the restructuring should help it m...</td>\n      <td>said|</td>\n      <td>the restructuring |</td>\n      <td>|</td>\n    </tr>\n    <tr>\n      <th>3532</th>\n      <td>Details of the restructuring wo n't be made fi...</td>\n      <td>approve|</td>\n      <td>|</td>\n      <td>regulators|</td>\n    </tr>\n    <tr>\n      <th>3533</th>\n      <td>Jay Stevens , an analyst with Dean Witter Reyn...</td>\n      <td>expected|</td>\n      <td>|</td>\n      <td>he|</td>\n    </tr>\n    <tr>\n      <th>3534</th>\n      <td>company to earn 35 cents a share for the quart...</td>\n      <td>said|</td>\n      <td>the firm 's weaker profit |</td>\n      <td>|</td>\n    </tr>\n  </tbody>\n</table>\n<p>3535 rows × 4 columns</p>\n</div>"
          },
          "metadata": {}
        }
      ],
      "execution_count": null
    },
    {
      "cell_type": "code",
      "source": [
        "# dev_df = get_data(\"/kaggle/input/ds-json-format/json_format_dataset/0/aaai19srl.dev0.conll.json\")\n",
        "\n",
        "dev_df = organize_data(dev_df)\n",
        "dev_df"
      ],
      "metadata": {
        "papermill": {
          "duration": 0.694338,
          "end_time": "2024-09-26T11:26:59.522603",
          "exception": false,
          "start_time": "2024-09-26T11:26:58.828265",
          "status": "completed"
        },
        "tags": [],
        "trusted": true,
        "execution": {
          "iopub.status.busy": "2025-01-08T15:01:21.014484Z",
          "iopub.execute_input": "2025-01-08T15:01:21.014705Z",
          "iopub.status.idle": "2025-01-08T15:01:21.047979Z",
          "shell.execute_reply.started": "2025-01-08T15:01:21.014686Z",
          "shell.execute_reply": "2025-01-08T15:01:21.047143Z"
        },
        "id": "yqqMCM9Wv7zQ",
        "outputId": "d5e0fd54-e79e-4fc8-ec3f-978221c176f1"
      },
      "outputs": [
        {
          "execution_count": 9,
          "output_type": "execute_result",
          "data": {
            "text/plain": "                                               sentence  \\\n0     The owner though that the animal was suffering...   \n1     The owner put down the animal , although the v...   \n2     GATUNA , Rwanda , July 6 -LRB- AFP -RRB- - Pre...   \n3     The formerly close allies fell out in 1999 , t...   \n4     The formerly close allies fell out in 1999 , t...   \n...                                                 ...   \n1504  He said the independent power segment could gr...   \n1505  Westinghouse also expects its international sa...   \n1506  Analysts had expected Consolidated to post a s...   \n1507  They have to continue to tighten their belts ,...   \n1508  The move rewards shareholders and should impro...   \n\n                             dse  \\\n0                        though|   \n1                 had forbidden|   \n2      soured relations between|   \n3                      fell out|   \n4     fell out|mounting rivalry|   \n...                          ...   \n1504                said|expect|   \n1505                    expects|   \n1506                   expected|   \n1507                       said|   \n1508                       said|   \n\n                                                 target  \\\n0                                          the animal |   \n1                                        him to do so |   \n2                        their neighbouring countries |   \n3                                                each |   \n4                                                each |   \n...                                                 ...   \n1504  the independent power segment |to supply a sig...   \n1505                                                  |   \n1506               Consolidated to post a slim profit |   \n1507                                             They |   \n1508                                         The move |   \n\n                                                  agent  \n0                                            The owner|  \n1                                              the vet|  \n2                                                     |  \n3                            The formerly close allies|  \n4     The formerly close allies|The formerly close a...  \n...                                                 ...  \n1504                                             He|We|  \n1505                                      Westinghouse|  \n1506                                          Analysts|  \n1507  Craig Kloner , an analyst at Goldman , Sachs &...  \n1508                                            Oneida|  \n\n[1509 rows x 4 columns]",
            "text/html": "<div>\n<style scoped>\n    .dataframe tbody tr th:only-of-type {\n        vertical-align: middle;\n    }\n\n    .dataframe tbody tr th {\n        vertical-align: top;\n    }\n\n    .dataframe thead th {\n        text-align: right;\n    }\n</style>\n<table border=\"1\" class=\"dataframe\">\n  <thead>\n    <tr style=\"text-align: right;\">\n      <th></th>\n      <th>sentence</th>\n      <th>dse</th>\n      <th>target</th>\n      <th>agent</th>\n    </tr>\n  </thead>\n  <tbody>\n    <tr>\n      <th>0</th>\n      <td>The owner though that the animal was suffering...</td>\n      <td>though|</td>\n      <td>the animal |</td>\n      <td>The owner|</td>\n    </tr>\n    <tr>\n      <th>1</th>\n      <td>The owner put down the animal , although the v...</td>\n      <td>had forbidden|</td>\n      <td>him to do so |</td>\n      <td>the vet|</td>\n    </tr>\n    <tr>\n      <th>2</th>\n      <td>GATUNA , Rwanda , July 6 -LRB- AFP -RRB- - Pre...</td>\n      <td>soured relations between|</td>\n      <td>their neighbouring countries |</td>\n      <td>|</td>\n    </tr>\n    <tr>\n      <th>3</th>\n      <td>The formerly close allies fell out in 1999 , t...</td>\n      <td>fell out|</td>\n      <td>each |</td>\n      <td>The formerly close allies|</td>\n    </tr>\n    <tr>\n      <th>4</th>\n      <td>The formerly close allies fell out in 1999 , t...</td>\n      <td>fell out|mounting rivalry|</td>\n      <td>each |</td>\n      <td>The formerly close allies|The formerly close a...</td>\n    </tr>\n    <tr>\n      <th>...</th>\n      <td>...</td>\n      <td>...</td>\n      <td>...</td>\n      <td>...</td>\n    </tr>\n    <tr>\n      <th>1504</th>\n      <td>He said the independent power segment could gr...</td>\n      <td>said|expect|</td>\n      <td>the independent power segment |to supply a sig...</td>\n      <td>He|We|</td>\n    </tr>\n    <tr>\n      <th>1505</th>\n      <td>Westinghouse also expects its international sa...</td>\n      <td>expects|</td>\n      <td>|</td>\n      <td>Westinghouse|</td>\n    </tr>\n    <tr>\n      <th>1506</th>\n      <td>Analysts had expected Consolidated to post a s...</td>\n      <td>expected|</td>\n      <td>Consolidated to post a slim profit |</td>\n      <td>Analysts|</td>\n    </tr>\n    <tr>\n      <th>1507</th>\n      <td>They have to continue to tighten their belts ,...</td>\n      <td>said|</td>\n      <td>They |</td>\n      <td>Craig Kloner , an analyst at Goldman , Sachs &amp;...</td>\n    </tr>\n    <tr>\n      <th>1508</th>\n      <td>The move rewards shareholders and should impro...</td>\n      <td>said|</td>\n      <td>The move |</td>\n      <td>Oneida|</td>\n    </tr>\n  </tbody>\n</table>\n<p>1509 rows × 4 columns</p>\n</div>"
          },
          "metadata": {}
        }
      ],
      "execution_count": null
    },
    {
      "cell_type": "code",
      "source": [
        "# test_df = get_data(\"/kaggle/input/ds-json-format/json_format_dataset/0/aaai19srl.test0.conll.json\")\n",
        "\n",
        "test_df = organize_data(test_df)\n",
        "test_df"
      ],
      "metadata": {
        "papermill": {
          "duration": 0.452454,
          "end_time": "2024-09-26T11:26:59.991200",
          "exception": false,
          "start_time": "2024-09-26T11:26:59.538746",
          "status": "completed"
        },
        "tags": [],
        "trusted": true,
        "execution": {
          "iopub.status.busy": "2025-01-08T15:01:21.048798Z",
          "iopub.execute_input": "2025-01-08T15:01:21.049054Z",
          "iopub.status.idle": "2025-01-08T15:01:21.081352Z",
          "shell.execute_reply.started": "2025-01-08T15:01:21.049032Z",
          "shell.execute_reply": "2025-01-08T15:01:21.080603Z"
        },
        "id": "iOtfipniv7zR",
        "outputId": "e309d7b2-dce2-4b86-e519-a2535dffcdfb"
      },
      "outputs": [
        {
          "execution_count": 10,
          "output_type": "execute_result",
          "data": {
            "text/plain": "                                              sentence  \\\n0    Private organizations are also being encourage...   \n1    It is believed that sand from northern areas ,...   \n2    Russia favors creation of `` international ins...   \n3    Moscow , 16 July : The Russian Foreign Ministr...   \n4    A Foreign Ministry statement in connection wit...   \n..                                                 ...   \n888  We will have a reasonably flat year this year ...   \n889  Mr. Schwarz also said costs associated with U....   \n890  Esselte AB , the Stockholm office supplies com...   \n891  A committee of outside directors for the Garde...   \n892  The unit said it can provide no assurance a tr...   \n\n                            dse  \\\n0    are also being encouraged|   \n1                  is believed|   \n2                       favors|   \n3               has called for|   \n4                        reads|   \n..                          ...   \n888                       says|   \n889                       said|   \n890                   proposed|   \n891                      asked|   \n892   can provide no assurance|   \n\n                                                target  \\\n0                              help fight sandstorms |   \n1    sand from northern areas , especially the Inne...   \n2    creation of `` international instruments '' to...   \n3    taking into account Russia 's specific interes...   \n4            taking into account Russia 's interests |   \n..                                                 ...   \n888                             reasonably flat year |   \n889  costs associated with U.S. Trust 's planned mo...   \n890  to acquire the 22 % it does n't own of its U.S...   \n891                                                  |   \n892                         a transaction will occur |   \n\n                                                 agent  \n0                                                    |  \n1                                                    |  \n2                                              Russia|  \n3                        The Russian Foreign Ministry|  \n4                        A Foreign Ministry statement|  \n..                                                 ...  \n888                                       Mr. Schwarz|  \n889                                       Mr. Schwarz|  \n890  Esselte AB , the Stockholm office supplies com...  \n891                                        the parent|  \n892                                          The unit|  \n\n[893 rows x 4 columns]",
            "text/html": "<div>\n<style scoped>\n    .dataframe tbody tr th:only-of-type {\n        vertical-align: middle;\n    }\n\n    .dataframe tbody tr th {\n        vertical-align: top;\n    }\n\n    .dataframe thead th {\n        text-align: right;\n    }\n</style>\n<table border=\"1\" class=\"dataframe\">\n  <thead>\n    <tr style=\"text-align: right;\">\n      <th></th>\n      <th>sentence</th>\n      <th>dse</th>\n      <th>target</th>\n      <th>agent</th>\n    </tr>\n  </thead>\n  <tbody>\n    <tr>\n      <th>0</th>\n      <td>Private organizations are also being encourage...</td>\n      <td>are also being encouraged|</td>\n      <td>help fight sandstorms |</td>\n      <td>|</td>\n    </tr>\n    <tr>\n      <th>1</th>\n      <td>It is believed that sand from northern areas ,...</td>\n      <td>is believed|</td>\n      <td>sand from northern areas , especially the Inne...</td>\n      <td>|</td>\n    </tr>\n    <tr>\n      <th>2</th>\n      <td>Russia favors creation of `` international ins...</td>\n      <td>favors|</td>\n      <td>creation of `` international instruments '' to...</td>\n      <td>Russia|</td>\n    </tr>\n    <tr>\n      <th>3</th>\n      <td>Moscow , 16 July : The Russian Foreign Ministr...</td>\n      <td>has called for|</td>\n      <td>taking into account Russia 's specific interes...</td>\n      <td>The Russian Foreign Ministry|</td>\n    </tr>\n    <tr>\n      <th>4</th>\n      <td>A Foreign Ministry statement in connection wit...</td>\n      <td>reads|</td>\n      <td>taking into account Russia 's interests |</td>\n      <td>A Foreign Ministry statement|</td>\n    </tr>\n    <tr>\n      <th>...</th>\n      <td>...</td>\n      <td>...</td>\n      <td>...</td>\n      <td>...</td>\n    </tr>\n    <tr>\n      <th>888</th>\n      <td>We will have a reasonably flat year this year ...</td>\n      <td>says|</td>\n      <td>reasonably flat year |</td>\n      <td>Mr. Schwarz|</td>\n    </tr>\n    <tr>\n      <th>889</th>\n      <td>Mr. Schwarz also said costs associated with U....</td>\n      <td>said|</td>\n      <td>costs associated with U.S. Trust 's planned mo...</td>\n      <td>Mr. Schwarz|</td>\n    </tr>\n    <tr>\n      <th>890</th>\n      <td>Esselte AB , the Stockholm office supplies com...</td>\n      <td>proposed|</td>\n      <td>to acquire the 22 % it does n't own of its U.S...</td>\n      <td>Esselte AB , the Stockholm office supplies com...</td>\n    </tr>\n    <tr>\n      <th>891</th>\n      <td>A committee of outside directors for the Garde...</td>\n      <td>asked|</td>\n      <td>|</td>\n      <td>the parent|</td>\n    </tr>\n    <tr>\n      <th>892</th>\n      <td>The unit said it can provide no assurance a tr...</td>\n      <td>can provide no assurance|</td>\n      <td>a transaction will occur |</td>\n      <td>The unit|</td>\n    </tr>\n  </tbody>\n</table>\n<p>893 rows × 4 columns</p>\n</div>"
          },
          "metadata": {}
        }
      ],
      "execution_count": null
    },
    {
      "cell_type": "markdown",
      "source": [
        "### Getting evaluation data into df and dividing each of {agent, target, dse} elements"
      ],
      "metadata": {
        "papermill": {
          "duration": 0.014221,
          "end_time": "2024-09-26T11:27:00.021124",
          "exception": false,
          "start_time": "2024-09-26T11:27:00.006903",
          "status": "completed"
        },
        "tags": [],
        "id": "yrLctLhVv7zS"
      }
    },
    {
      "cell_type": "code",
      "source": [
        "# function which will write prompt for the model according to the sentence and the items in it\n",
        "def create_prompt(input_df):\n",
        "    target_prompt, agent_prompt, target, agent, sentence, dse = [], [], [], [], [], []\n",
        "    for i in range(len(input_df)):\n",
        "        target_prompt.append(f\"sentence is: {input_df['sentence'][i]} this is verb: {input_df['dse'][i]}. find target for DSE in the sentence?\")\n",
        "        agent_prompt.append(f\"sentence is: {input_df['sentence'][i]} this is verb: {input_df['dse'][i]}. find agent for DSE in the sentence?\")\n",
        "        target.append(input_df['target'][i])\n",
        "        agent.append(input_df['agent'][i])\n",
        "        sentence.append(input_df['sentence'][i])\n",
        "        dse.append(input_df['dse'][i])\n",
        "    output_df = pd.DataFrame({'sentence':sentence, 'dse':dse, 'target_prompt':target_prompt, 'target':target, 'agent_prompt':agent_prompt, 'agent':agent})\n",
        "    return output_df"
      ],
      "metadata": {
        "papermill": {
          "duration": 3.176629,
          "end_time": "2024-09-26T11:27:03.249717",
          "exception": false,
          "start_time": "2024-09-26T11:27:00.073088",
          "status": "completed"
        },
        "tags": [],
        "trusted": true,
        "execution": {
          "iopub.status.busy": "2025-01-08T15:01:21.082259Z",
          "iopub.execute_input": "2025-01-08T15:01:21.082579Z",
          "iopub.status.idle": "2025-01-08T15:01:21.101253Z",
          "shell.execute_reply.started": "2025-01-08T15:01:21.082557Z",
          "shell.execute_reply": "2025-01-08T15:01:21.100529Z"
        },
        "id": "yzO62TLDv7zT"
      },
      "outputs": [],
      "execution_count": null
    },
    {
      "cell_type": "markdown",
      "source": [
        "### Change the sentence and dse into a prompt according to information in that row\n",
        "#### change will be applied on all three data frames {train, test, validation}"
      ],
      "metadata": {
        "papermill": {
          "duration": 0.017877,
          "end_time": "2024-09-26T11:27:03.282229",
          "exception": false,
          "start_time": "2024-09-26T11:27:03.264352",
          "status": "completed"
        },
        "tags": [],
        "id": "_9ef0-qXv7zU"
      }
    },
    {
      "cell_type": "code",
      "source": [
        "dev_df = create_prompt(dev_df).reset_index(drop=True)\n",
        "train_df = create_prompt(df).reset_index(drop=True)\n",
        "test_df = create_prompt(test_df).reset_index(drop=True)"
      ],
      "metadata": {
        "papermill": {
          "duration": 5.143976,
          "end_time": "2024-09-26T11:27:08.441865",
          "exception": false,
          "start_time": "2024-09-26T11:27:03.297889",
          "status": "completed"
        },
        "tags": [],
        "trusted": true,
        "execution": {
          "iopub.status.busy": "2025-01-08T15:01:21.102144Z",
          "iopub.execute_input": "2025-01-08T15:01:21.102439Z",
          "iopub.status.idle": "2025-01-08T15:01:21.340524Z",
          "shell.execute_reply.started": "2025-01-08T15:01:21.102409Z",
          "shell.execute_reply": "2025-01-08T15:01:21.339867Z"
        },
        "id": "ZBijEMM5v7zV"
      },
      "outputs": [],
      "execution_count": null
    },
    {
      "cell_type": "code",
      "source": [
        "from torch.utils.data import DataLoader, Dataset\n",
        "# Define a custom dataset\n",
        "class CustomDataset(Dataset):\n",
        "    def __init__(self, dataframe, tokenizer, max_length4text, max_length4label):\n",
        "        self.data = dataframe\n",
        "        self.tokenizer = tokenizer\n",
        "        self.max_length4text = max_length4text\n",
        "        self.max_length4label = max_length4label\n",
        "\n",
        "    def __len__(self):\n",
        "        return len(self.data)\n",
        "\n",
        "    def __getitem__(self, idx):\n",
        "        agent_prompt = self.data['agent_prompt'][idx]\n",
        "        target_prompt = self.data['target_prompt'][idx]\n",
        "        agent = self.data['agent'][idx]\n",
        "        target = self.data['target'][idx]\n",
        "        # tokenizing agent prompt\n",
        "        agent_prompt_encoding = self.tokenizer(agent_prompt, truncation=True, padding='max_length', max_length=self.max_length4text, return_tensors='pt').to(\"cuda\")\n",
        "        # tokenizing target prompt\n",
        "        target_prompt_encoding = self.tokenizer(target_prompt, truncation=True, padding='max_length', max_length=self.max_length4text, return_tensors='pt').to(\"cuda\")\n",
        "        # tokenizing agent\n",
        "        agent_encoding = self.tokenizer(agent, truncation=True, padding='max_length', max_length=self.max_length4label, return_tensors='pt').to(\"cuda\")\n",
        "        # tokenizing target\n",
        "        target_encoding = self.tokenizer(target, truncation=True, padding='max_length', max_length=self.max_length4label, return_tensors='pt').to(\"cuda\")\n",
        "        return {\n",
        "            # agent prompt\n",
        "            'agent_input_id': agent_prompt_encoding['input_ids'].squeeze(),\n",
        "            'agent_attention_mask': agent_prompt_encoding['attention_mask'].squeeze(),\n",
        "            # target prompt\n",
        "            'target_input_id': target_prompt_encoding['input_ids'].squeeze(),\n",
        "            'target_attention_mask': target_prompt_encoding['attention_mask'].squeeze(),\n",
        "            #agent\n",
        "            'agent_id': agent_encoding['input_ids'].squeeze(),\n",
        "            'agent_mask': agent_encoding['attention_mask'].squeeze(),\n",
        "            #target\n",
        "            'target_id': target_encoding['input_ids'].squeeze(),\n",
        "            'target_mask': target_encoding['attention_mask'].squeeze()\n",
        "        }"
      ],
      "metadata": {
        "papermill": {
          "duration": 0.029669,
          "end_time": "2024-09-26T11:27:08.487210",
          "exception": false,
          "start_time": "2024-09-26T11:27:08.457541",
          "status": "completed"
        },
        "tags": [],
        "trusted": true,
        "execution": {
          "iopub.status.busy": "2025-01-08T15:01:21.341322Z",
          "iopub.execute_input": "2025-01-08T15:01:21.341594Z",
          "iopub.status.idle": "2025-01-08T15:01:21.348821Z",
          "shell.execute_reply.started": "2025-01-08T15:01:21.341564Z",
          "shell.execute_reply": "2025-01-08T15:01:21.347897Z"
        },
        "id": "5dZrno25v7zV"
      },
      "outputs": [],
      "execution_count": null
    },
    {
      "cell_type": "code",
      "source": [
        "# Define the loss function and optimizer\n",
        "loss_fn = torch.nn.CrossEntropyLoss()\n",
        "optimizer = torch.optim.Adam(model.parameters(), lr=0.0005)"
      ],
      "metadata": {
        "papermill": {
          "duration": 0.828199,
          "end_time": "2024-09-26T11:27:09.329609",
          "exception": false,
          "start_time": "2024-09-26T11:27:08.501410",
          "status": "completed"
        },
        "tags": [],
        "trusted": true,
        "execution": {
          "iopub.status.busy": "2025-01-08T15:01:21.349604Z",
          "iopub.execute_input": "2025-01-08T15:01:21.349879Z",
          "iopub.status.idle": "2025-01-08T15:01:21.827836Z",
          "shell.execute_reply.started": "2025-01-08T15:01:21.349846Z",
          "shell.execute_reply": "2025-01-08T15:01:21.826962Z"
        },
        "id": "8LGbOyBjv7zW"
      },
      "outputs": [],
      "execution_count": null
    },
    {
      "cell_type": "code",
      "source": [
        "def f1_calculator(split_pred_list, split_actual_list):\n",
        "    matched, percision, recall, f1 = 0, 0, 0, 0\n",
        "    predicted_len, actual_len      = 0, 0\n",
        "\n",
        "    for actual_sublist, prediction_sublist in zip(split_pred_list, split_actual_list):\n",
        "        predicted_len += len(prediction_sublist)\n",
        "        for i in actual_sublist:\n",
        "            actual_len += 1\n",
        "            if i in prediction_sublist:\n",
        "                matched += 1\n",
        "\n",
        "    print(f\"matched: {matched}, predicted_len: {predicted_len}, actual_len: {actual_len}\")\n",
        "    try:\n",
        "        precision = matched / predicted_len\n",
        "        recall = matched / actual_len\n",
        "        f1 = 2 * (precision * recall) / (precision + recall)\n",
        "    except ZeroDivisionError:\n",
        "        f1 = 0\n",
        "\n",
        "    return f1"
      ],
      "metadata": {
        "papermill": {
          "duration": 0.0255,
          "end_time": "2024-09-26T11:27:09.370039",
          "exception": false,
          "start_time": "2024-09-26T11:27:09.344539",
          "status": "completed"
        },
        "tags": [],
        "trusted": true,
        "execution": {
          "iopub.status.busy": "2025-01-08T15:01:21.828711Z",
          "iopub.execute_input": "2025-01-08T15:01:21.829099Z",
          "iopub.status.idle": "2025-01-08T15:01:21.833935Z",
          "shell.execute_reply.started": "2025-01-08T15:01:21.829078Z",
          "shell.execute_reply": "2025-01-08T15:01:21.833162Z"
        },
        "id": "C8ge_Vsnv7zX"
      },
      "outputs": [],
      "execution_count": null
    },
    {
      "cell_type": "code",
      "source": [
        "def clear_data(text_list):\n",
        "    list_of_items_in_text = []\n",
        "    for single_list in text_list:\n",
        "        for i in single_list.split('|'):\n",
        "            i = i.lower().replace(\" \", \"\")  # Convert to lowercase and remove extra whitespace\n",
        "            if i:  # Check if `i` is not empty after stripping\n",
        "                list_of_items_in_text.append(i)\n",
        "    return list_of_items_in_text"
      ],
      "metadata": {
        "trusted": true,
        "execution": {
          "iopub.status.busy": "2025-01-08T15:01:21.834761Z",
          "iopub.execute_input": "2025-01-08T15:01:21.835031Z",
          "iopub.status.idle": "2025-01-08T15:01:21.852778Z",
          "shell.execute_reply.started": "2025-01-08T15:01:21.834997Z",
          "shell.execute_reply": "2025-01-08T15:01:21.852015Z"
        },
        "id": "YKnwFRhVv7zY"
      },
      "outputs": [],
      "execution_count": null
    },
    {
      "cell_type": "code",
      "source": [
        "def evaluate_model(model, dataloader, prompt_type):\n",
        "    if prompt_type == 'target':\n",
        "        id_type = 'target_input_id'\n",
        "        attention_type = 'target_attention_mask'\n",
        "        output_type = 'target_id'\n",
        "    elif prompt_type == 'agent':\n",
        "        id_type = 'agent_input_id'\n",
        "        attention_type = 'agent_attention_mask'\n",
        "        output_type = 'agent_id'\n",
        "\n",
        "    model.eval()  # Set the model to evaluation mode\n",
        "    with torch.no_grad():\n",
        "        actual_list, prediction_list = [], []\n",
        "        for batch_idx, batch in enumerate(dataloader):\n",
        "\n",
        "            # Forward pass\n",
        "            ids = batch[id_type]\n",
        "            mask = batch[attention_type]\n",
        "            output_id = batch[output_type]\n",
        "\n",
        "            actuals = [tokenizer.decode(g, skip_special_tokens=True, clean_up_tokenization_spaces=True) for g in output_id]\n",
        "\n",
        "            generated_output = model.generate(\n",
        "              input_ids = ids,\n",
        "              attention_mask = mask,\n",
        "              max_length=64,\n",
        "              )\n",
        "            preds = [tokenizer.decode(g, skip_special_tokens=True, clean_up_tokenization_spaces=True) for g in generated_output]\n",
        "\n",
        "            actual_list.append(clear_data(actuals))\n",
        "            prediction_list.append(clear_data(preds))\n",
        "\n",
        "    return f1_calculator(prediction_list, actual_list)"
      ],
      "metadata": {
        "papermill": {
          "duration": 0.030366,
          "end_time": "2024-09-26T11:27:09.415309",
          "exception": false,
          "start_time": "2024-09-26T11:27:09.384943",
          "status": "completed"
        },
        "tags": [],
        "trusted": true,
        "execution": {
          "iopub.status.busy": "2025-01-08T15:01:21.853604Z",
          "iopub.execute_input": "2025-01-08T15:01:21.853874Z",
          "iopub.status.idle": "2025-01-08T15:01:21.866607Z",
          "shell.execute_reply.started": "2025-01-08T15:01:21.853846Z",
          "shell.execute_reply": "2025-01-08T15:01:21.865982Z"
        },
        "id": "5B7YdpTSv7zZ"
      },
      "outputs": [],
      "execution_count": null
    },
    {
      "cell_type": "code",
      "source": [
        "f1_scores_target, f1_scores_agent = [], []\n",
        "#           data_loader:train,v_data_loader:validation\n",
        "def train_data(data_loader, v_data_loader):\n",
        "    data_list = []\n",
        "    model.train()\n",
        "    for epoch in range(EPOCH):\n",
        "        losses = []\n",
        "        for batch in data_loader:\n",
        "\n",
        "            agent_input = batch['agent_input_id']\n",
        "            agent_attention_mask = batch['agent_attention_mask']\n",
        "\n",
        "            target_input = batch['target_input_id']\n",
        "            target_attention_mask = batch['target_attention_mask']\n",
        "\n",
        "            agent_id = batch['agent_id']\n",
        "            agent_mask = batch['agent_mask']\n",
        "\n",
        "            target_id = batch['target_id']\n",
        "            target_mask = batch['target_mask']\n",
        "\n",
        "            optimizer.zero_grad()\n",
        "\n",
        "            agent_output = model(agent_input, attention_mask=agent_attention_mask, labels=agent_id)\n",
        "            target_output = model(target_input, attention_mask=target_attention_mask, labels=target_id)\n",
        "\n",
        "            # created just for examination\n",
        "            # has no contribution to accuracy of model output\n",
        "            # temprorarly_pd = pd.DataFrame([{\n",
        "            #     'actual_agent': [tokenizer.decode(a) for a in agent_input],\n",
        "            #     'agent_model_output': agent_output,\n",
        "            #     'actual_target': [tokenizer.decode(c) for c in target_input],\n",
        "            #     'target_model_output': target_output\n",
        "            # }])\n",
        "            #\n",
        "            #\n",
        "\n",
        "            agent_loss = agent_output.loss\n",
        "            target_loss = target_output.loss\n",
        "            losses.append(agent_loss.item())\n",
        "            losses.append(target_loss.item())\n",
        "\n",
        "            agent_loss.backward()\n",
        "            target_loss.backward()\n",
        "            optimizer.step()\n",
        "\n",
        "\n",
        "        f1_4_target = evaluate_model(model, v_data_loader, 'target')\n",
        "        f1_4_agent = evaluate_model(model, v_data_loader, 'agent')\n",
        "\n",
        "        f1_scores_target.append(f1_4_target)\n",
        "        f1_scores_agent.append(f1_4_agent)\n",
        "\n",
        "        # report the results of training function.\n",
        "        print(f'loss: {np.mean(losses)}, f1 for target:{f1_4_target}, f1 for agent:{f1_4_agent} \\n end of epoch{epoch}. \\n')"
      ],
      "metadata": {
        "papermill": {
          "duration": 0.027986,
          "end_time": "2024-09-26T11:27:09.457947",
          "exception": false,
          "start_time": "2024-09-26T11:27:09.429961",
          "status": "completed"
        },
        "tags": [],
        "trusted": true,
        "execution": {
          "iopub.status.busy": "2025-01-08T15:01:21.867276Z",
          "iopub.execute_input": "2025-01-08T15:01:21.867495Z",
          "iopub.status.idle": "2025-01-08T15:01:21.884923Z",
          "shell.execute_reply.started": "2025-01-08T15:01:21.867465Z",
          "shell.execute_reply": "2025-01-08T15:01:21.884252Z"
        },
        "id": "GDLmQo94v7za"
      },
      "outputs": [],
      "execution_count": null
    },
    {
      "cell_type": "markdown",
      "source": [
        "# By this box, mpqa/orl data is ready to be combined with different forms of clustering being applied on the rest of the data"
      ],
      "metadata": {
        "papermill": {
          "duration": 0.014514,
          "end_time": "2024-09-26T11:27:09.487230",
          "exception": false,
          "start_time": "2024-09-26T11:27:09.472716",
          "status": "completed"
        },
        "tags": [],
        "id": "jLEVbgRqv7zb"
      }
    },
    {
      "cell_type": "markdown",
      "source": [
        "### .\n",
        "### .\n",
        "### .\n",
        "### .\n",
        "## chosing randomly out of SRL_without_anchors for calculating the results\n",
        "### .\n",
        "### .\n",
        "### .\n",
        "### ."
      ],
      "metadata": {
        "papermill": {
          "duration": 0.014835,
          "end_time": "2024-09-26T11:27:09.517168",
          "exception": false,
          "start_time": "2024-09-26T11:27:09.502333",
          "status": "completed"
        },
        "tags": [],
        "id": "cw7ckxXGv7zb"
      }
    },
    {
      "cell_type": "code",
      "source": [
        "srl = pd.read_csv(srl_data_link)\n",
        "agents, targets, verbs, sentences, cluster_number = [], [], [], [], []\n",
        "for i in range(len(srl)):\n",
        "\n",
        "    #single line of data is selected from df\n",
        "    line = srl.iloc[i]\n",
        "\n",
        "    #check for both ARGS,\n",
        "    #if both are empty skips that line.\n",
        "    #if either one of the args is filled-\n",
        "    #-process continues.\n",
        "    if line['ARG0'] or line['ARG1']:\n",
        "        if line['ARG0']:\n",
        "            agents.append(line['ARG0'])\n",
        "        else:\n",
        "            agents.append(\"\")\n",
        "        if line['ARG1']:\n",
        "            targets.append(line['ARG1'])\n",
        "        else:\n",
        "            targets.append(\"\")\n",
        "        sentences.append(line['SENTENCE'])\n",
        "        verbs.append(line['PREDICATES'])\n",
        "        cluster_number.append(line['Cluster_Number'])\n",
        "\n",
        "srl_df = pd.DataFrame({'sentences': sentences, 'verbs': verbs, 'agents': agents, 'targets': targets, 'cluster_no':cluster_number}, dtype='object').fillna('')\n",
        "srl_df"
      ],
      "metadata": {
        "papermill": {
          "duration": 1.156441,
          "end_time": "2024-09-26T11:27:10.689172",
          "exception": false,
          "start_time": "2024-09-26T11:27:09.532731",
          "status": "completed"
        },
        "tags": [],
        "trusted": true,
        "execution": {
          "iopub.status.busy": "2025-01-08T15:01:21.885686Z",
          "iopub.execute_input": "2025-01-08T15:01:21.885875Z",
          "iopub.status.idle": "2025-01-08T15:01:28.270323Z",
          "shell.execute_reply.started": "2025-01-08T15:01:21.885858Z",
          "shell.execute_reply": "2025-01-08T15:01:28.269533Z"
        },
        "id": "aVu6OFUzv7zb",
        "outputId": "1c08e090-6b37-4eb7-be9b-06e092d039c5"
      },
      "outputs": [
        {
          "execution_count": 19,
          "output_type": "execute_result",
          "data": {
            "text/plain": "                                               sentences        verbs  \\\n0      Pierre Vinken , 61 years old , will join the b...         join   \n1      Mr. Vinken is chairman of Elsevier N.V. , the ...           is   \n2      Mr. Vinken is chairman of Elsevier N.V. , the ...   publishing   \n3      Rudolph Agnew , 55 years old and former chairm...        named   \n4      A form of asbestos once used to make Kent ciga...         used   \n...                                                  ...          ...   \n97164  `` We emphasize discipline because we know tha...           is   \n97165  `` We want to see Nelson Mandela and all our c...         want   \n97166  `` We want to see Nelson Mandela and all our c...          see   \n97167  `` We want to see Nelson Mandela and all our c...  disciplined   \n97168  `` We want to see Nelson Mandela and all our c...          see   \n\n                               agents  \\\n0      Pierre Vinken , 61 years old ,   \n1                                       \n2                               group   \n3                                       \n4                                       \n...                               ...   \n97164                                   \n97165                              We   \n97166                              We   \n97167                                   \n97168                              we   \n\n                                                 targets  cluster_no  \n0                                              the board          28  \n1                                             Mr. Vinken          28  \n2                                                                 28  \n3      Rudolph Agnew , 55 years old and former chairm...          28  \n4                                     A form of asbestos          22  \n...                                                  ...         ...  \n97164                  another early Umkhonto leader who          30  \n97165  to see Nelson Mandela and all our comrades out...          30  \n97166  Nelson Mandela and all our comrades out of prison          30  \n97167                                                 we          30  \n97168                                               them          30  \n\n[97169 rows x 5 columns]",
            "text/html": "<div>\n<style scoped>\n    .dataframe tbody tr th:only-of-type {\n        vertical-align: middle;\n    }\n\n    .dataframe tbody tr th {\n        vertical-align: top;\n    }\n\n    .dataframe thead th {\n        text-align: right;\n    }\n</style>\n<table border=\"1\" class=\"dataframe\">\n  <thead>\n    <tr style=\"text-align: right;\">\n      <th></th>\n      <th>sentences</th>\n      <th>verbs</th>\n      <th>agents</th>\n      <th>targets</th>\n      <th>cluster_no</th>\n    </tr>\n  </thead>\n  <tbody>\n    <tr>\n      <th>0</th>\n      <td>Pierre Vinken , 61 years old , will join the b...</td>\n      <td>join</td>\n      <td>Pierre Vinken , 61 years old ,</td>\n      <td>the board</td>\n      <td>28</td>\n    </tr>\n    <tr>\n      <th>1</th>\n      <td>Mr. Vinken is chairman of Elsevier N.V. , the ...</td>\n      <td>is</td>\n      <td></td>\n      <td>Mr. Vinken</td>\n      <td>28</td>\n    </tr>\n    <tr>\n      <th>2</th>\n      <td>Mr. Vinken is chairman of Elsevier N.V. , the ...</td>\n      <td>publishing</td>\n      <td>group</td>\n      <td></td>\n      <td>28</td>\n    </tr>\n    <tr>\n      <th>3</th>\n      <td>Rudolph Agnew , 55 years old and former chairm...</td>\n      <td>named</td>\n      <td></td>\n      <td>Rudolph Agnew , 55 years old and former chairm...</td>\n      <td>28</td>\n    </tr>\n    <tr>\n      <th>4</th>\n      <td>A form of asbestos once used to make Kent ciga...</td>\n      <td>used</td>\n      <td></td>\n      <td>A form of asbestos</td>\n      <td>22</td>\n    </tr>\n    <tr>\n      <th>...</th>\n      <td>...</td>\n      <td>...</td>\n      <td>...</td>\n      <td>...</td>\n      <td>...</td>\n    </tr>\n    <tr>\n      <th>97164</th>\n      <td>`` We emphasize discipline because we know tha...</td>\n      <td>is</td>\n      <td></td>\n      <td>another early Umkhonto leader who</td>\n      <td>30</td>\n    </tr>\n    <tr>\n      <th>97165</th>\n      <td>`` We want to see Nelson Mandela and all our c...</td>\n      <td>want</td>\n      <td>We</td>\n      <td>to see Nelson Mandela and all our comrades out...</td>\n      <td>30</td>\n    </tr>\n    <tr>\n      <th>97166</th>\n      <td>`` We want to see Nelson Mandela and all our c...</td>\n      <td>see</td>\n      <td>We</td>\n      <td>Nelson Mandela and all our comrades out of prison</td>\n      <td>30</td>\n    </tr>\n    <tr>\n      <th>97167</th>\n      <td>`` We want to see Nelson Mandela and all our c...</td>\n      <td>disciplined</td>\n      <td></td>\n      <td>we</td>\n      <td>30</td>\n    </tr>\n    <tr>\n      <th>97168</th>\n      <td>`` We want to see Nelson Mandela and all our c...</td>\n      <td>see</td>\n      <td>we</td>\n      <td>them</td>\n      <td>30</td>\n    </tr>\n  </tbody>\n</table>\n<p>97169 rows × 5 columns</p>\n</div>"
          },
          "metadata": {}
        }
      ],
      "execution_count": null
    },
    {
      "cell_type": "code",
      "source": [
        "agent_prompts, agents, target_prompts, targets, cluster_no = [], [], [], [], []\n",
        "for i in range(len(srl_df)):\n",
        "    line = srl_df.iloc[i]\n",
        "    agent_prompts.append(f\"sentence is: {line['sentences']} this is verb: {line['verbs']} find agent for this veerb in the sentence\")\n",
        "    agents.append(line['agents'])\n",
        "    target_prompts.append(f\"sentence is: {line['sentences']} this is verb: {line['verbs']} find target for this verb in the sentence\")\n",
        "    targets.append(line['targets'])\n",
        "    cluster_no.append(line['cluster_no'])\n",
        "    # (f\"sentence is: \\{{input_df['sentence'][i]}} this is DSE: {input_df['dse'][i]}. find target for DSE in the sentence?\")\n",
        "srl_df = []\n",
        "srl_df = pd.DataFrame({'agent_prompt': agent_prompts, 'agent': agents, 'target_prompt': target_prompts, 'target': targets, 'cluster_no':cluster_no})\n",
        "srl_df"
      ],
      "metadata": {
        "papermill": {
          "duration": 0.730236,
          "end_time": "2024-09-26T11:27:11.435423",
          "exception": false,
          "start_time": "2024-09-26T11:27:10.705187",
          "status": "completed"
        },
        "tags": [],
        "trusted": true,
        "execution": {
          "iopub.status.busy": "2025-01-08T15:01:28.271187Z",
          "iopub.execute_input": "2025-01-08T15:01:28.271508Z",
          "iopub.status.idle": "2025-01-08T15:01:33.873852Z",
          "shell.execute_reply.started": "2025-01-08T15:01:28.271480Z",
          "shell.execute_reply": "2025-01-08T15:01:33.873094Z"
        },
        "id": "uZaKCAFsv7zd",
        "outputId": "51f5344b-752c-4f1b-9b62-ae1be734f3cc"
      },
      "outputs": [
        {
          "execution_count": 20,
          "output_type": "execute_result",
          "data": {
            "text/plain": "                                            agent_prompt  \\\n0      sentence is: Pierre Vinken , 61 years old , wi...   \n1      sentence is: Mr. Vinken is chairman of Elsevie...   \n2      sentence is: Mr. Vinken is chairman of Elsevie...   \n3      sentence is: Rudolph Agnew , 55 years old and ...   \n4      sentence is: A form of asbestos once used to m...   \n...                                                  ...   \n97164  sentence is: `` We emphasize discipline becaus...   \n97165  sentence is: `` We want to see Nelson Mandela ...   \n97166  sentence is: `` We want to see Nelson Mandela ...   \n97167  sentence is: `` We want to see Nelson Mandela ...   \n97168  sentence is: `` We want to see Nelson Mandela ...   \n\n                                agent  \\\n0      Pierre Vinken , 61 years old ,   \n1                                       \n2                               group   \n3                                       \n4                                       \n...                               ...   \n97164                                   \n97165                              We   \n97166                              We   \n97167                                   \n97168                              we   \n\n                                           target_prompt  \\\n0      sentence is: Pierre Vinken , 61 years old , wi...   \n1      sentence is: Mr. Vinken is chairman of Elsevie...   \n2      sentence is: Mr. Vinken is chairman of Elsevie...   \n3      sentence is: Rudolph Agnew , 55 years old and ...   \n4      sentence is: A form of asbestos once used to m...   \n...                                                  ...   \n97164  sentence is: `` We emphasize discipline becaus...   \n97165  sentence is: `` We want to see Nelson Mandela ...   \n97166  sentence is: `` We want to see Nelson Mandela ...   \n97167  sentence is: `` We want to see Nelson Mandela ...   \n97168  sentence is: `` We want to see Nelson Mandela ...   \n\n                                                  target  cluster_no  \n0                                              the board          28  \n1                                             Mr. Vinken          28  \n2                                                                 28  \n3      Rudolph Agnew , 55 years old and former chairm...          28  \n4                                     A form of asbestos          22  \n...                                                  ...         ...  \n97164                  another early Umkhonto leader who          30  \n97165  to see Nelson Mandela and all our comrades out...          30  \n97166  Nelson Mandela and all our comrades out of prison          30  \n97167                                                 we          30  \n97168                                               them          30  \n\n[97169 rows x 5 columns]",
            "text/html": "<div>\n<style scoped>\n    .dataframe tbody tr th:only-of-type {\n        vertical-align: middle;\n    }\n\n    .dataframe tbody tr th {\n        vertical-align: top;\n    }\n\n    .dataframe thead th {\n        text-align: right;\n    }\n</style>\n<table border=\"1\" class=\"dataframe\">\n  <thead>\n    <tr style=\"text-align: right;\">\n      <th></th>\n      <th>agent_prompt</th>\n      <th>agent</th>\n      <th>target_prompt</th>\n      <th>target</th>\n      <th>cluster_no</th>\n    </tr>\n  </thead>\n  <tbody>\n    <tr>\n      <th>0</th>\n      <td>sentence is: Pierre Vinken , 61 years old , wi...</td>\n      <td>Pierre Vinken , 61 years old ,</td>\n      <td>sentence is: Pierre Vinken , 61 years old , wi...</td>\n      <td>the board</td>\n      <td>28</td>\n    </tr>\n    <tr>\n      <th>1</th>\n      <td>sentence is: Mr. Vinken is chairman of Elsevie...</td>\n      <td></td>\n      <td>sentence is: Mr. Vinken is chairman of Elsevie...</td>\n      <td>Mr. Vinken</td>\n      <td>28</td>\n    </tr>\n    <tr>\n      <th>2</th>\n      <td>sentence is: Mr. Vinken is chairman of Elsevie...</td>\n      <td>group</td>\n      <td>sentence is: Mr. Vinken is chairman of Elsevie...</td>\n      <td></td>\n      <td>28</td>\n    </tr>\n    <tr>\n      <th>3</th>\n      <td>sentence is: Rudolph Agnew , 55 years old and ...</td>\n      <td></td>\n      <td>sentence is: Rudolph Agnew , 55 years old and ...</td>\n      <td>Rudolph Agnew , 55 years old and former chairm...</td>\n      <td>28</td>\n    </tr>\n    <tr>\n      <th>4</th>\n      <td>sentence is: A form of asbestos once used to m...</td>\n      <td></td>\n      <td>sentence is: A form of asbestos once used to m...</td>\n      <td>A form of asbestos</td>\n      <td>22</td>\n    </tr>\n    <tr>\n      <th>...</th>\n      <td>...</td>\n      <td>...</td>\n      <td>...</td>\n      <td>...</td>\n      <td>...</td>\n    </tr>\n    <tr>\n      <th>97164</th>\n      <td>sentence is: `` We emphasize discipline becaus...</td>\n      <td></td>\n      <td>sentence is: `` We emphasize discipline becaus...</td>\n      <td>another early Umkhonto leader who</td>\n      <td>30</td>\n    </tr>\n    <tr>\n      <th>97165</th>\n      <td>sentence is: `` We want to see Nelson Mandela ...</td>\n      <td>We</td>\n      <td>sentence is: `` We want to see Nelson Mandela ...</td>\n      <td>to see Nelson Mandela and all our comrades out...</td>\n      <td>30</td>\n    </tr>\n    <tr>\n      <th>97166</th>\n      <td>sentence is: `` We want to see Nelson Mandela ...</td>\n      <td>We</td>\n      <td>sentence is: `` We want to see Nelson Mandela ...</td>\n      <td>Nelson Mandela and all our comrades out of prison</td>\n      <td>30</td>\n    </tr>\n    <tr>\n      <th>97167</th>\n      <td>sentence is: `` We want to see Nelson Mandela ...</td>\n      <td></td>\n      <td>sentence is: `` We want to see Nelson Mandela ...</td>\n      <td>we</td>\n      <td>30</td>\n    </tr>\n    <tr>\n      <th>97168</th>\n      <td>sentence is: `` We want to see Nelson Mandela ...</td>\n      <td>we</td>\n      <td>sentence is: `` We want to see Nelson Mandela ...</td>\n      <td>them</td>\n      <td>30</td>\n    </tr>\n  </tbody>\n</table>\n<p>97169 rows × 5 columns</p>\n</div>"
          },
          "metadata": {}
        }
      ],
      "execution_count": null
    },
    {
      "cell_type": "markdown",
      "source": [
        "#### randomly selecting number of this dataframe to be fed into the model\n",
        "\n",
        "##### 4000 lines of data is the limit of notebook with GPU T4*2 memory limit\n",
        "##### 60 clusters to chose from, Results in almost 66.6... from each cluster"
      ],
      "metadata": {
        "papermill": {
          "duration": 0.015757,
          "end_time": "2024-09-26T11:27:11.467508",
          "exception": false,
          "start_time": "2024-09-26T11:27:11.451751",
          "status": "completed"
        },
        "tags": [],
        "id": "CXNToLi-v7zd"
      }
    },
    {
      "cell_type": "code",
      "source": [
        "def random_sample_df(df, num_rows, SEED=None):\n",
        "    # Check if num_rows is larger than the available number of rows in the DataFrame\n",
        "    if num_rows > len(df):\n",
        "        raise ValueError(f\"Requested {num_rows} rows, but the DataFrame only contains {len(df)} rows.\")\n",
        "\n",
        "    # Sample the DataFrame and return the result\n",
        "    sampled_df = df.sample(n=num_rows, random_state=SEED)\n",
        "    return sampled_df\n",
        "\n",
        "def random_sample_from_all_clusters(df, num_rows_per_cluster, cluster_column, SEED=None):\n",
        "    # Check if the cluster_column exists in the DataFrame\n",
        "    if cluster_column not in df.columns:\n",
        "        raise ValueError(f\"Column '{cluster_column}' not found in DataFrame.\")\n",
        "\n",
        "    # Create an empty list to hold the sampled data for each cluster\n",
        "    sampled_dfs = []\n",
        "\n",
        "    # Group the DataFrame by the cluster column\n",
        "    grouped = df.groupby(cluster_column)\n",
        "\n",
        "    # Iterate over each cluster and sample rows\n",
        "    for cluster, group in grouped:\n",
        "        # Check if the group has enough rows to sample\n",
        "        if len(group) < num_rows_per_cluster:\n",
        "            raise ValueError(f\"Cluster '{cluster}' has only {len(group)} rows, but {num_rows_per_cluster} were requested.\")\n",
        "\n",
        "        # Sample the rows from the current cluster\n",
        "        sampled_group = group.sample(n=num_rows_per_cluster, random_state=SEED)\n",
        "        sampled_dfs.append(sampled_group)\n",
        "\n",
        "    # Concatenate the sampled DataFrames for each cluster\n",
        "    sampled_df = pd.concat(sampled_dfs).reset_index(drop=True)\n",
        "\n",
        "    return sampled_df\n",
        "\n",
        "\n",
        "srl_train_nk = random_sample_from_all_clusters(srl_df, 66, 'cluster_no', SEED)\n",
        "srl_train_nk"
      ],
      "metadata": {
        "papermill": {
          "duration": 0.038497,
          "end_time": "2024-09-26T11:27:11.521955",
          "exception": false,
          "start_time": "2024-09-26T11:27:11.483458",
          "status": "completed"
        },
        "tags": [],
        "trusted": true,
        "execution": {
          "iopub.status.busy": "2025-01-08T15:01:33.874641Z",
          "iopub.execute_input": "2025-01-08T15:01:33.874897Z",
          "iopub.status.idle": "2025-01-08T15:01:33.954633Z",
          "shell.execute_reply.started": "2025-01-08T15:01:33.874866Z",
          "shell.execute_reply": "2025-01-08T15:01:33.953906Z"
        },
        "id": "Wm6FRhYNv7ze",
        "outputId": "1e977f9b-4b13-4d40-f2fb-ff1aa479dcd7"
      },
      "outputs": [
        {
          "execution_count": 21,
          "output_type": "execute_result",
          "data": {
            "text/plain": "                                           agent_prompt  \\\n0     sentence is: Typically , money - fund yields b...   \n1     sentence is: Almost all have involved at least...   \n2     sentence is: Plain - vanilla funds have become...   \n3     sentence is: Renaissance 's last portfolio shi...   \n4     sentence is: Westridge Capital is an index fun...   \n...                                                 ...   \n3955  sentence is: Many are far enough from resident...   \n3956  sentence is: Madison and Fifth Avenues and Eas...   \n3957  sentence is: It seems to me the BPCA plan has ...   \n3958  sentence is: `` This city already has too many...   \n3959  sentence is: Las Colinas , once a huge Texas r...   \n\n                                                  agent  \\\n0                                    portfolio managers   \n1                                                         \n2                                                         \n3                                                         \n4                                                         \n...                                                 ...   \n3955                                                      \n3956                                                      \n3957                                      the BPCA plan   \n3958  Pierluigi Beggiato , the president of the Veni...   \n3959                                     its developers   \n\n                                          target_prompt  \\\n0     sentence is: Typically , money - fund yields b...   \n1     sentence is: Almost all have involved at least...   \n2     sentence is: Plain - vanilla funds have become...   \n3     sentence is: Renaissance 's last portfolio shi...   \n4     sentence is: Westridge Capital is an index fun...   \n...                                                 ...   \n3955  sentence is: Many are far enough from resident...   \n3956  sentence is: Madison and Fifth Avenues and Eas...   \n3957  sentence is: It seems to me the BPCA plan has ...   \n3958  sentence is: `` This city already has too many...   \n3959  sentence is: Las Colinas , once a huge Texas r...   \n\n                                                 target  cluster_no  \n0                               after the highest rates           0  \n1                                   investment category           0  \n2                                 Plain - vanilla funds           0  \n3     Renaissance 's last portfolio shift , carried ...           0  \n4                           stolid long - term investor           0  \n...                                                 ...         ...  \n3955                                      family visits          59  \n3956                                               $ 25          59  \n3957  the potential of making South Gardens a hortic...          59  \n3958  This city already has too many tourists , and ...          59  \n3959                                        to populate          59  \n\n[3960 rows x 5 columns]",
            "text/html": "<div>\n<style scoped>\n    .dataframe tbody tr th:only-of-type {\n        vertical-align: middle;\n    }\n\n    .dataframe tbody tr th {\n        vertical-align: top;\n    }\n\n    .dataframe thead th {\n        text-align: right;\n    }\n</style>\n<table border=\"1\" class=\"dataframe\">\n  <thead>\n    <tr style=\"text-align: right;\">\n      <th></th>\n      <th>agent_prompt</th>\n      <th>agent</th>\n      <th>target_prompt</th>\n      <th>target</th>\n      <th>cluster_no</th>\n    </tr>\n  </thead>\n  <tbody>\n    <tr>\n      <th>0</th>\n      <td>sentence is: Typically , money - fund yields b...</td>\n      <td>portfolio managers</td>\n      <td>sentence is: Typically , money - fund yields b...</td>\n      <td>after the highest rates</td>\n      <td>0</td>\n    </tr>\n    <tr>\n      <th>1</th>\n      <td>sentence is: Almost all have involved at least...</td>\n      <td></td>\n      <td>sentence is: Almost all have involved at least...</td>\n      <td>investment category</td>\n      <td>0</td>\n    </tr>\n    <tr>\n      <th>2</th>\n      <td>sentence is: Plain - vanilla funds have become...</td>\n      <td></td>\n      <td>sentence is: Plain - vanilla funds have become...</td>\n      <td>Plain - vanilla funds</td>\n      <td>0</td>\n    </tr>\n    <tr>\n      <th>3</th>\n      <td>sentence is: Renaissance 's last portfolio shi...</td>\n      <td></td>\n      <td>sentence is: Renaissance 's last portfolio shi...</td>\n      <td>Renaissance 's last portfolio shift , carried ...</td>\n      <td>0</td>\n    </tr>\n    <tr>\n      <th>4</th>\n      <td>sentence is: Westridge Capital is an index fun...</td>\n      <td></td>\n      <td>sentence is: Westridge Capital is an index fun...</td>\n      <td>stolid long - term investor</td>\n      <td>0</td>\n    </tr>\n    <tr>\n      <th>...</th>\n      <td>...</td>\n      <td>...</td>\n      <td>...</td>\n      <td>...</td>\n      <td>...</td>\n    </tr>\n    <tr>\n      <th>3955</th>\n      <td>sentence is: Many are far enough from resident...</td>\n      <td></td>\n      <td>sentence is: Many are far enough from resident...</td>\n      <td>family visits</td>\n      <td>59</td>\n    </tr>\n    <tr>\n      <th>3956</th>\n      <td>sentence is: Madison and Fifth Avenues and Eas...</td>\n      <td></td>\n      <td>sentence is: Madison and Fifth Avenues and Eas...</td>\n      <td>$ 25</td>\n      <td>59</td>\n    </tr>\n    <tr>\n      <th>3957</th>\n      <td>sentence is: It seems to me the BPCA plan has ...</td>\n      <td>the BPCA plan</td>\n      <td>sentence is: It seems to me the BPCA plan has ...</td>\n      <td>the potential of making South Gardens a hortic...</td>\n      <td>59</td>\n    </tr>\n    <tr>\n      <th>3958</th>\n      <td>sentence is: `` This city already has too many...</td>\n      <td>Pierluigi Beggiato , the president of the Veni...</td>\n      <td>sentence is: `` This city already has too many...</td>\n      <td>This city already has too many tourists , and ...</td>\n      <td>59</td>\n    </tr>\n    <tr>\n      <th>3959</th>\n      <td>sentence is: Las Colinas , once a huge Texas r...</td>\n      <td>its developers</td>\n      <td>sentence is: Las Colinas , once a huge Texas r...</td>\n      <td>to populate</td>\n      <td>59</td>\n    </tr>\n  </tbody>\n</table>\n<p>3960 rows × 5 columns</p>\n</div>"
          },
          "metadata": {}
        }
      ],
      "execution_count": null
    },
    {
      "cell_type": "code",
      "source": [
        "def combine_and_shuffle(df1, df2, SEED=None):\n",
        "    \"\"\"\n",
        "    Combines two DataFrames with the same columns and shuffles the rows.\n",
        "\n",
        "    Args:\n",
        "        df1 (pd.DataFrame): The first DataFrame.\n",
        "        df2 (pd.DataFrame): The second DataFrame.\n",
        "        seed (int, optional): Random seed for reproducibility.\n",
        "\n",
        "    Returns:\n",
        "        pd.DataFrame: A new DataFrame with rows from both DataFrames shuffled.\n",
        "    \"\"\"\n",
        "    # Combine the two DataFrames using pd.concat\n",
        "    combined_df = pd.concat([df1, df2], ignore_index=True)\n",
        "\n",
        "    # Shuffle the combined DataFrame\n",
        "    shuffled_df = combined_df.sample(frac=1, random_state=SEED).reset_index(drop=True)\n",
        "\n",
        "    return shuffled_df\n",
        "orl_srl = combine_and_shuffle(train_df, srl_train_nk, SEED)\n",
        "orl_srl.drop(columns=['cluster_no', 'sentence', 'dse'], inplace=True)\n",
        "orl_srl"
      ],
      "metadata": {
        "papermill": {
          "duration": 0.046525,
          "end_time": "2024-09-26T11:27:11.586317",
          "exception": false,
          "start_time": "2024-09-26T11:27:11.539792",
          "status": "completed"
        },
        "tags": [],
        "trusted": true,
        "execution": {
          "iopub.status.busy": "2025-01-08T15:01:33.955436Z",
          "iopub.execute_input": "2025-01-08T15:01:33.955723Z",
          "iopub.status.idle": "2025-01-08T15:01:33.978080Z",
          "shell.execute_reply.started": "2025-01-08T15:01:33.955700Z",
          "shell.execute_reply": "2025-01-08T15:01:33.977361Z"
        },
        "id": "6ySL2NA4v7zg",
        "outputId": "12a69ff0-0238-41de-f196-c64fd27d11d1"
      },
      "outputs": [
        {
          "execution_count": 22,
          "output_type": "execute_result",
          "data": {
            "text/plain": "                                          target_prompt  \\\n0     sentence is: Mrs. Gorman took advantage of low...   \n1     sentence is: The training wage covers only wor...   \n2     sentence is: The test , which was carried out ...   \n3     sentence is: The session losses left municipal...   \n4     sentence is: This provision lies at the heart ...   \n...                                                 ...   \n7490  sentence is: That has n't deterred plenty of c...   \n7491  sentence is: Naturally , I start crying , and ...   \n7492  sentence is: `` Watching wildlife can be a lot...   \n7493  sentence is: Rumor has it that the late author...   \n7494  sentence is: Shivute also said the report carr...   \n\n                                                 target  \\\n0                                             advantage   \n1                    workers who are 16 to 19 years old   \n2                                                 BSE |   \n3     municipal dollar bonds close to where they wer...   \n4                                        This provision   \n...                                                 ...   \n7490                                plenty of companies   \n7491                                                  |   \n7492                                Watching wildlife |   \n7493     it |when I tell the Americans about my model |   \n7494  the report |the National Union of Namibian Wor...   \n\n                                           agent_prompt  \\\n0     sentence is: Mrs. Gorman took advantage of low...   \n1     sentence is: The training wage covers only wor...   \n2     sentence is: The test , which was carried out ...   \n3     sentence is: The session losses left municipal...   \n4     sentence is: This provision lies at the heart ...   \n...                                                 ...   \n7490  sentence is: That has n't deterred plenty of c...   \n7491  sentence is: Naturally , I start crying , and ...   \n7492  sentence is: `` Watching wildlife can be a lot...   \n7493  sentence is: Rumor has it that the late author...   \n7494  sentence is: Shivute also said the report carr...   \n\n                                           agent  \n0                                    Mrs. Gorman  \n1                                                 \n2                                              |  \n3                             The session losses  \n4                                                 \n...                                          ...  \n7490                                        That  \n7491                                          I|  \n7492                                   the sign|  \n7493  the late author of the greenhouse model|I|  \n7494                                    Shivute|  \n\n[7495 rows x 4 columns]",
            "text/html": "<div>\n<style scoped>\n    .dataframe tbody tr th:only-of-type {\n        vertical-align: middle;\n    }\n\n    .dataframe tbody tr th {\n        vertical-align: top;\n    }\n\n    .dataframe thead th {\n        text-align: right;\n    }\n</style>\n<table border=\"1\" class=\"dataframe\">\n  <thead>\n    <tr style=\"text-align: right;\">\n      <th></th>\n      <th>target_prompt</th>\n      <th>target</th>\n      <th>agent_prompt</th>\n      <th>agent</th>\n    </tr>\n  </thead>\n  <tbody>\n    <tr>\n      <th>0</th>\n      <td>sentence is: Mrs. Gorman took advantage of low...</td>\n      <td>advantage</td>\n      <td>sentence is: Mrs. Gorman took advantage of low...</td>\n      <td>Mrs. Gorman</td>\n    </tr>\n    <tr>\n      <th>1</th>\n      <td>sentence is: The training wage covers only wor...</td>\n      <td>workers who are 16 to 19 years old</td>\n      <td>sentence is: The training wage covers only wor...</td>\n      <td></td>\n    </tr>\n    <tr>\n      <th>2</th>\n      <td>sentence is: The test , which was carried out ...</td>\n      <td>BSE |</td>\n      <td>sentence is: The test , which was carried out ...</td>\n      <td>|</td>\n    </tr>\n    <tr>\n      <th>3</th>\n      <td>sentence is: The session losses left municipal...</td>\n      <td>municipal dollar bonds close to where they wer...</td>\n      <td>sentence is: The session losses left municipal...</td>\n      <td>The session losses</td>\n    </tr>\n    <tr>\n      <th>4</th>\n      <td>sentence is: This provision lies at the heart ...</td>\n      <td>This provision</td>\n      <td>sentence is: This provision lies at the heart ...</td>\n      <td></td>\n    </tr>\n    <tr>\n      <th>...</th>\n      <td>...</td>\n      <td>...</td>\n      <td>...</td>\n      <td>...</td>\n    </tr>\n    <tr>\n      <th>7490</th>\n      <td>sentence is: That has n't deterred plenty of c...</td>\n      <td>plenty of companies</td>\n      <td>sentence is: That has n't deterred plenty of c...</td>\n      <td>That</td>\n    </tr>\n    <tr>\n      <th>7491</th>\n      <td>sentence is: Naturally , I start crying , and ...</td>\n      <td>|</td>\n      <td>sentence is: Naturally , I start crying , and ...</td>\n      <td>I|</td>\n    </tr>\n    <tr>\n      <th>7492</th>\n      <td>sentence is: `` Watching wildlife can be a lot...</td>\n      <td>Watching wildlife |</td>\n      <td>sentence is: `` Watching wildlife can be a lot...</td>\n      <td>the sign|</td>\n    </tr>\n    <tr>\n      <th>7493</th>\n      <td>sentence is: Rumor has it that the late author...</td>\n      <td>it |when I tell the Americans about my model |</td>\n      <td>sentence is: Rumor has it that the late author...</td>\n      <td>the late author of the greenhouse model|I|</td>\n    </tr>\n    <tr>\n      <th>7494</th>\n      <td>sentence is: Shivute also said the report carr...</td>\n      <td>the report |the National Union of Namibian Wor...</td>\n      <td>sentence is: Shivute also said the report carr...</td>\n      <td>Shivute|</td>\n    </tr>\n  </tbody>\n</table>\n<p>7495 rows × 4 columns</p>\n</div>"
          },
          "metadata": {}
        }
      ],
      "execution_count": null
    },
    {
      "cell_type": "code",
      "source": [
        "# # # designed only for mpqa only, this code won't use any of the srl data cleaned by the previous blocks\n",
        "\n",
        "\n",
        "# Create a data loader for TRAIN dataframe\n",
        "train_dataset = CustomDataset(train_df, tokenizer, max_length4text= MAX_INPUT_LENGTH, max_length4label= MAX_LABEL_LENGTH)\n",
        "train_data_loader = DataLoader(train_dataset, batch_size= BATCH_SIZE, shuffle=True)\n",
        "\n",
        "# Create a data loader for EVALUATION dataframe\n",
        "val_dataset = CustomDataset(dev_df, tokenizer, max_length4text= MAX_INPUT_LENGTH, max_length4label= MAX_LABEL_LENGTH)\n",
        "val_data_loader = DataLoader(val_dataset, batch_size= BATCH_SIZE, shuffle=False)\n",
        "\n",
        "# Create a data loader for TEST dataframe\n",
        "test_dataset = CustomDataset(test_df, tokenizer, max_length4text= MAX_INPUT_LENGTH, max_length4label= MAX_LABEL_LENGTH)\n",
        "test_data_loader = DataLoader(test_dataset, batch_size= BATCH_SIZE, shuffle=False)\n"
      ],
      "metadata": {
        "trusted": true,
        "execution": {
          "iopub.status.busy": "2025-01-08T15:01:33.987550Z",
          "iopub.execute_input": "2025-01-08T15:01:33.987833Z",
          "iopub.status.idle": "2025-01-08T15:01:33.998969Z",
          "shell.execute_reply.started": "2025-01-08T15:01:33.987811Z",
          "shell.execute_reply": "2025-01-08T15:01:33.998270Z"
        },
        "id": "1nOBOzcav7zi"
      },
      "outputs": [],
      "execution_count": null
    },
    {
      "cell_type": "code",
      "source": [
        "train_data(train_data_loader, val_data_loader)"
      ],
      "metadata": {
        "papermill": {
          "duration": 1973.261252,
          "end_time": "2024-09-26T12:00:04.906971",
          "exception": false,
          "start_time": "2024-09-26T11:27:11.645719",
          "status": "completed"
        },
        "tags": [],
        "trusted": true,
        "execution": {
          "iopub.status.busy": "2025-01-08T15:01:33.999899Z",
          "iopub.execute_input": "2025-01-08T15:01:34.000264Z",
          "iopub.status.idle": "2025-01-08T15:53:19.149335Z",
          "shell.execute_reply.started": "2025-01-08T15:01:34.000233Z",
          "shell.execute_reply": "2025-01-08T15:53:19.148558Z"
        },
        "id": "PhdMpbtqv7zj",
        "outputId": "66638e85-4704-4fa6-fd70-2d4db34bb705"
      },
      "outputs": [
        {
          "name": "stdout",
          "text": "matched: 526, predicted_len: 1488, actual_len: 1630\nmatched: 957, predicted_len: 1586, actual_len: 1556\nloss: 2.004405187348188, f1 for target:0.3373957665169981, f1 for agent:0.6091661362189689 \n end of epoch0. \n\nmatched: 613, predicted_len: 1488, actual_len: 1372\nmatched: 917, predicted_len: 1586, actual_len: 1374\nloss: 0.3325021051628105, f1 for target:0.4286713286713287, f1 for agent:0.6195945945945945 \n end of epoch1. \n\nmatched: 546, predicted_len: 1488, actual_len: 1259\nmatched: 1066, predicted_len: 1586, actual_len: 1512\nloss: 0.21019468772209296, f1 for target:0.39752457226064797, f1 for agent:0.6881859264041317 \n end of epoch2. \n\nmatched: 606, predicted_len: 1488, actual_len: 1382\nmatched: 1064, predicted_len: 1586, actual_len: 1487\nloss: 0.1433407269828653, f1 for target:0.42229965156794425, f1 for agent:0.69248291571754 \n end of epoch3. \n\nmatched: 626, predicted_len: 1488, actual_len: 1341\nmatched: 960, predicted_len: 1586, actual_len: 1388\nloss: 0.10441458692490044, f1 for target:0.44255920820077765, f1 for agent:0.6455951580363148 \n end of epoch4. \n\nmatched: 647, predicted_len: 1488, actual_len: 1458\nmatched: 1016, predicted_len: 1586, actual_len: 1488\nloss: 0.08377279460398575, f1 for target:0.4392396469789545, f1 for agent:0.6610279765777488 \n end of epoch5. \n\nmatched: 648, predicted_len: 1488, actual_len: 1348\nmatched: 1053, predicted_len: 1586, actual_len: 1517\nloss: 0.06940688866869373, f1 for target:0.45698166431593795, f1 for agent:0.6786980341604898 \n end of epoch6. \n\nmatched: 600, predicted_len: 1488, actual_len: 1311\nmatched: 1003, predicted_len: 1586, actual_len: 1398\nloss: 0.0635819228808001, f1 for target:0.4287245444801715, f1 for agent:0.6722520107238605 \n end of epoch7. \n\nmatched: 650, predicted_len: 1488, actual_len: 1394\nmatched: 1011, predicted_len: 1586, actual_len: 1410\nloss: 0.05808899901221285, f1 for target:0.4510756419153366, f1 for agent:0.6748998664886516 \n end of epoch8. \n\nmatched: 666, predicted_len: 1488, actual_len: 1417\nmatched: 1005, predicted_len: 1586, actual_len: 1451\nloss: 0.05032934547180973, f1 for target:0.4585197934595525, f1 for agent:0.6618373394797499 \n end of epoch9. \n\nmatched: 675, predicted_len: 1488, actual_len: 1368\nmatched: 1001, predicted_len: 1586, actual_len: 1410\nloss: 0.04522591649349463, f1 for target:0.47268907563025203, f1 for agent:0.6682242990654206 \n end of epoch10. \n\nmatched: 661, predicted_len: 1488, actual_len: 1388\nmatched: 1062, predicted_len: 1586, actual_len: 1519\nloss: 0.04733589201794653, f1 for target:0.4596662030598053, f1 for agent:0.6840579710144928 \n end of epoch11. \n\nmatched: 642, predicted_len: 1488, actual_len: 1405\nmatched: 1046, predicted_len: 1586, actual_len: 1478\nloss: 0.04571555699300715, f1 for target:0.4438299343242309, f1 for agent:0.6827676240208876 \n end of epoch12. \n\nmatched: 688, predicted_len: 1488, actual_len: 1432\nmatched: 1025, predicted_len: 1586, actual_len: 1505\nloss: 0.04178146954420638, f1 for target:0.4712328767123287, f1 for agent:0.6632157877709479 \n end of epoch13. \n\nmatched: 685, predicted_len: 1488, actual_len: 1440\nmatched: 1001, predicted_len: 1586, actual_len: 1415\nloss: 0.042845469934992116, f1 for target:0.46789617486338797, f1 for agent:0.6671109630123292 \n end of epoch14. \n\nmatched: 635, predicted_len: 1488, actual_len: 1379\nmatched: 1017, predicted_len: 1586, actual_len: 1438\nloss: 0.04168731751873935, f1 for target:0.44297174747122425, f1 for agent:0.6726190476190477 \n end of epoch15. \n\nmatched: 629, predicted_len: 1488, actual_len: 1440\nmatched: 991, predicted_len: 1586, actual_len: 1431\nloss: 0.0413184254161394, f1 for target:0.4296448087431694, f1 for agent:0.6569439840901558 \n end of epoch16. \n\nmatched: 616, predicted_len: 1488, actual_len: 1350\nmatched: 986, predicted_len: 1586, actual_len: 1416\nloss: 0.04154043936691547, f1 for target:0.43410852713178294, f1 for agent:0.6568954030646236 \n end of epoch17. \n\nmatched: 667, predicted_len: 1488, actual_len: 1436\nmatched: 1036, predicted_len: 1586, actual_len: 1498\nloss: 0.04121985148748983, f1 for target:0.4562243502051983, f1 for agent:0.6718547341115434 \n end of epoch18. \n\nmatched: 675, predicted_len: 1488, actual_len: 1448\nmatched: 1021, predicted_len: 1586, actual_len: 1448\nloss: 0.04345009129462858, f1 for target:0.4598092643051771, f1 for agent:0.6730388925510876 \n end of epoch19. \n\nmatched: 608, predicted_len: 1488, actual_len: 1352\nmatched: 1003, predicted_len: 1586, actual_len: 1418\nloss: 0.042774648034660995, f1 for target:0.4281690140845071, f1 for agent:0.6677762982689748 \n end of epoch20. \n\nmatched: 708, predicted_len: 1488, actual_len: 1599\nmatched: 1093, predicted_len: 1586, actual_len: 1561\nloss: 0.04291793810582514, f1 for target:0.4586977648202138, f1 for agent:0.6946298061646012 \n end of epoch21. \n\nmatched: 623, predicted_len: 1488, actual_len: 1460\nmatched: 1088, predicted_len: 1586, actual_len: 1515\nloss: 0.04378644357261769, f1 for target:0.4226594301221167, f1 for agent:0.7017091260883586 \n end of epoch22. \n\nmatched: 631, predicted_len: 1488, actual_len: 1303\nmatched: 989, predicted_len: 1586, actual_len: 1442\nloss: 0.040705550784061136, f1 for target:0.4521676818344679, f1 for agent:0.6532364597093792 \n end of epoch23. \n\nmatched: 650, predicted_len: 1488, actual_len: 1460\nmatched: 1072, predicted_len: 1586, actual_len: 1497\nloss: 0.03987003648969329, f1 for target:0.440976933514247, f1 for agent:0.6954265325981187 \n end of epoch24. \n\nmatched: 653, predicted_len: 1488, actual_len: 1392\nmatched: 1031, predicted_len: 1586, actual_len: 1460\nloss: 0.037702882516403066, f1 for target:0.45347222222222217, f1 for agent:0.6769533814839134 \n end of epoch25. \n\nmatched: 687, predicted_len: 1488, actual_len: 1472\nmatched: 1072, predicted_len: 1586, actual_len: 1546\nloss: 0.03576783737230856, f1 for target:0.4641891891891892, f1 for agent:0.6845466155810984 \n end of epoch26. \n\nmatched: 622, predicted_len: 1488, actual_len: 1323\nmatched: 984, predicted_len: 1586, actual_len: 1384\nloss: 0.03703004859340519, f1 for target:0.44254713625044473, f1 for agent:0.6626262626262626 \n end of epoch27. \n\nmatched: 648, predicted_len: 1488, actual_len: 1347\nmatched: 1004, predicted_len: 1586, actual_len: 1376\nloss: 0.03726698923066764, f1 for target:0.4571428571428572, f1 for agent:0.6779203241053342 \n end of epoch28. \n\nmatched: 634, predicted_len: 1488, actual_len: 1347\nmatched: 989, predicted_len: 1586, actual_len: 1392\nloss: 0.037031949387263445, f1 for target:0.4472663139329806, f1 for agent:0.664204163868368 \n end of epoch29. \n\nmatched: 667, predicted_len: 1488, actual_len: 1459\nmatched: 1051, predicted_len: 1586, actual_len: 1485\nloss: 0.03577355691231787, f1 for target:0.4526637258228707, f1 for agent:0.6844676001302508 \n end of epoch30. \n\nmatched: 639, predicted_len: 1488, actual_len: 1417\nmatched: 977, predicted_len: 1586, actual_len: 1419\nloss: 0.038864542824863374, f1 for target:0.43993115318416526, f1 for agent:0.6502495840266224 \n end of epoch31. \n\n",
          "output_type": "stream"
        }
      ],
      "execution_count": null
    },
    {
      "cell_type": "code",
      "source": [
        "import matplotlib.pyplot as plt\n",
        "# Plot F1 scores for target and agent\n",
        "epochs = range(0, EPOCH)\n",
        "\n",
        "plt.figure(figsize=(10, 6))\n",
        "plt.plot(epochs, f1_scores_target, label='F1 Target', marker='o')\n",
        "plt.plot(epochs, f1_scores_agent, label='F1 Agent', marker='o')\n",
        "\n",
        "plt.xlabel('Epochs')\n",
        "plt.ylabel('F1 Score')\n",
        "plt.title('F1 Scores for Target and Agent over Epochs')\n",
        "plt.legend()\n",
        "plt.grid(True)\n",
        "plt.show()"
      ],
      "metadata": {
        "papermill": {
          "duration": 0.462293,
          "end_time": "2024-09-26T12:00:05.387802",
          "exception": false,
          "start_time": "2024-09-26T12:00:04.925509",
          "status": "completed"
        },
        "tags": [],
        "trusted": true,
        "execution": {
          "iopub.status.busy": "2025-01-08T15:53:19.151128Z",
          "iopub.execute_input": "2025-01-08T15:53:19.151362Z",
          "iopub.status.idle": "2025-01-08T15:53:19.493996Z",
          "shell.execute_reply.started": "2025-01-08T15:53:19.151341Z",
          "shell.execute_reply": "2025-01-08T15:53:19.493181Z"
        },
        "id": "ysDuCAN5v7zk",
        "outputId": "9f151c68-24e0-4a7d-d0ab-67bef97564f7"
      },
      "outputs": [
        {
          "output_type": "display_data",
          "data": {
            "text/plain": "<Figure size 1000x600 with 1 Axes>",
            "image/png": "[encoded data removed]"
          },
          "metadata": {}
        }
      ],
      "execution_count": null
    },
    {
      "cell_type": "code",
      "source": [
        "target_accuracy = evaluate_model(model, val_data_loader, 'target')\n",
        "agent_accuracy = evaluate_model(model, val_data_loader, 'agent')\n",
        "print(f'f1 Agent: {agent_accuracy}. f1 Target: {target_accuracy}\\n\\n----------------------')"
      ],
      "metadata": {
        "papermill": {
          "duration": 31.79925,
          "end_time": "2024-09-26T12:00:37.496787",
          "exception": false,
          "start_time": "2024-09-26T12:00:05.697537",
          "status": "completed"
        },
        "tags": [],
        "_kg_hide-output": true,
        "trusted": true,
        "execution": {
          "iopub.status.busy": "2025-01-08T15:53:19.494817Z",
          "iopub.execute_input": "2025-01-08T15:53:19.495084Z",
          "iopub.status.idle": "2025-01-08T15:53:38.181410Z",
          "shell.execute_reply.started": "2025-01-08T15:53:19.495053Z",
          "shell.execute_reply": "2025-01-08T15:53:38.180648Z"
        },
        "id": "OJD-lhSTv7zl",
        "outputId": "afd43c47-d0ab-44a8-fad1-1f3d3f288e1c"
      },
      "outputs": [
        {
          "name": "stdout",
          "text": "matched: 639, predicted_len: 1488, actual_len: 1417\nmatched: 977, predicted_len: 1586, actual_len: 1419\nf1 Agent: 0.6502495840266224. f1 Target: 0.43993115318416526\n\n----------------------\n",
          "output_type": "stream"
        }
      ],
      "execution_count": null
    },
    {
      "cell_type": "code",
      "source": [
        "torch.save(model.state_dict())"
      ],
      "metadata": {
        "id": "SdDap-dA1Uox"
      },
      "execution_count": null,
      "outputs": []
    },
    {
      "cell_type": "markdown",
      "source": [
        "# Loading the model (t5-small trained on ORL only) and testing accuracy on test dataset"
      ],
      "metadata": {
        "id": "xiaot9PE2EjM"
      }
    },
    {
      "cell_type": "code",
      "source": [
        "# Create a data loader for TRAIN dataframe\n",
        "train_dataset = CustomDataset(orl_srl, tokenizer, max_length4text= MAX_INPUT_LENGTH, max_length4label= MAX_LABEL_LENGTH)\n",
        "train_data_loader = DataLoader(train_dataset, batch_size= BATCH_SIZE, shuffle=True)\n",
        "\n",
        "# Create a data loader for EVALUATION dataframe\n",
        "val_dataset = CustomDataset(dev_df, tokenizer, max_length4text= MAX_INPUT_LENGTH, max_length4label= MAX_LABEL_LENGTH)\n",
        "val_data_loader = DataLoader(val_dataset, batch_size= BATCH_SIZE, shuffle=False)\n",
        "\n",
        "# Create a data loader for TEST dataframe\n",
        "test_dataset = CustomDataset(test_df, tokenizer, max_length4text= MAX_INPUT_LENGTH, max_length4label= MAX_LABEL_LENGTH)\n",
        "test_data_loader = DataLoader(test_dataset, batch_size= BATCH_SIZE, shuffle=False)"
      ],
      "metadata": {
        "id": "dACxmykj1eql"
      },
      "execution_count": null,
      "outputs": []
    },
    {
      "cell_type": "code",
      "source": [
        "train_data(train_data_loader, val_data_loader)"
      ],
      "metadata": {
        "id": "nLJY6Fun1wx8"
      },
      "execution_count": null,
      "outputs": []
    },
    {
      "cell_type": "code",
      "source": [
        "import matplotlib.pyplot as plt\n",
        "# Plot F1 scores for target and agent\n",
        "epochs = range(0, EPOCH)\n",
        "\n",
        "plt.figure(figsize=(10, 6))\n",
        "plt.plot(epochs, f1_scores_target, label='F1 Target', marker='o')\n",
        "plt.plot(epochs, f1_scores_agent, label='F1 Agent', marker='o')\n",
        "\n",
        "plt.xlabel('Epochs')\n",
        "plt.ylabel('F1 Score')\n",
        "plt.title('F1 Scores for Target and Agent over Epochs')\n",
        "plt.legend()\n",
        "plt.grid(True)\n",
        "plt.show()"
      ],
      "metadata": {
        "id": "LdhQPhAS145u"
      },
      "execution_count": null,
      "outputs": []
    },
    {
      "cell_type": "code",
      "source": [
        "target_accuracy = evaluate_model(model, val_data_loader, 'target')\n",
        "agent_accuracy = evaluate_model(model, val_data_loader, 'agent')\n",
        "print(f'f1 Agent: {agent_accuracy}. f1 Target: {target_accuracy}\\n\\n----------------------')"
      ],
      "metadata": {
        "id": "roVxpQ711758"
      },
      "execution_count": null,
      "outputs": []
    }
  ]
}